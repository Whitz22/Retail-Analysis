{
 "cells": [
  {
   "cell_type": "code",
   "execution_count": 1,
   "id": "87c6a980",
   "metadata": {},
   "outputs": [],
   "source": [
    "#importing libraries\n",
    "import pandas as pd\n",
    "import numpy as np\n",
    "import seaborn as sns\n",
    "import matplotlib.pyplot as plt\n",
    "\n",
    "import warnings\n",
    "warnings.filterwarnings('ignore')\n"
   ]
  },
  {
   "cell_type": "code",
   "execution_count": 2,
   "id": "18f0d2da",
   "metadata": {},
   "outputs": [
    {
     "data": {
      "text/html": [
       "<div>\n",
       "<style scoped>\n",
       "    .dataframe tbody tr th:only-of-type {\n",
       "        vertical-align: middle;\n",
       "    }\n",
       "\n",
       "    .dataframe tbody tr th {\n",
       "        vertical-align: top;\n",
       "    }\n",
       "\n",
       "    .dataframe thead th {\n",
       "        text-align: right;\n",
       "    }\n",
       "</style>\n",
       "<table border=\"1\" class=\"dataframe\">\n",
       "  <thead>\n",
       "    <tr style=\"text-align: right;\">\n",
       "      <th></th>\n",
       "      <th>LYLTY_CARD_NBR</th>\n",
       "      <th>LIFESTAGE</th>\n",
       "      <th>PREMIUM_CUSTOMER</th>\n",
       "    </tr>\n",
       "  </thead>\n",
       "  <tbody>\n",
       "    <tr>\n",
       "      <th>0</th>\n",
       "      <td>1000</td>\n",
       "      <td>YOUNG SINGLES/COUPLES</td>\n",
       "      <td>Premium</td>\n",
       "    </tr>\n",
       "    <tr>\n",
       "      <th>1</th>\n",
       "      <td>1002</td>\n",
       "      <td>YOUNG SINGLES/COUPLES</td>\n",
       "      <td>Mainstream</td>\n",
       "    </tr>\n",
       "    <tr>\n",
       "      <th>2</th>\n",
       "      <td>1003</td>\n",
       "      <td>YOUNG FAMILIES</td>\n",
       "      <td>Budget</td>\n",
       "    </tr>\n",
       "    <tr>\n",
       "      <th>3</th>\n",
       "      <td>1004</td>\n",
       "      <td>OLDER SINGLES/COUPLES</td>\n",
       "      <td>Mainstream</td>\n",
       "    </tr>\n",
       "    <tr>\n",
       "      <th>4</th>\n",
       "      <td>1005</td>\n",
       "      <td>MIDAGE SINGLES/COUPLES</td>\n",
       "      <td>Mainstream</td>\n",
       "    </tr>\n",
       "  </tbody>\n",
       "</table>\n",
       "</div>"
      ],
      "text/plain": [
       "   LYLTY_CARD_NBR               LIFESTAGE PREMIUM_CUSTOMER\n",
       "0            1000   YOUNG SINGLES/COUPLES          Premium\n",
       "1            1002   YOUNG SINGLES/COUPLES       Mainstream\n",
       "2            1003          YOUNG FAMILIES           Budget\n",
       "3            1004   OLDER SINGLES/COUPLES       Mainstream\n",
       "4            1005  MIDAGE SINGLES/COUPLES       Mainstream"
      ]
     },
     "execution_count": 2,
     "metadata": {},
     "output_type": "execute_result"
    }
   ],
   "source": [
    "#loading data\n",
    "purchasing_df=pd.read_csv('QVI_purchase_behaviour.csv')\n",
    "purchasing_df.head()"
   ]
  },
  {
   "cell_type": "code",
   "execution_count": 3,
   "id": "e8f4a072",
   "metadata": {},
   "outputs": [
    {
     "data": {
      "text/plain": [
       "(72637, 3)"
      ]
     },
     "execution_count": 3,
     "metadata": {},
     "output_type": "execute_result"
    }
   ],
   "source": [
    "#rows vs columns\n",
    "purchasing_df.shape"
   ]
  },
  {
   "cell_type": "code",
   "execution_count": 4,
   "id": "706fa984",
   "metadata": {},
   "outputs": [
    {
     "name": "stdout",
     "output_type": "stream",
     "text": [
      "<class 'pandas.core.frame.DataFrame'>\n",
      "RangeIndex: 72637 entries, 0 to 72636\n",
      "Data columns (total 3 columns):\n",
      " #   Column            Non-Null Count  Dtype \n",
      "---  ------            --------------  ----- \n",
      " 0   LYLTY_CARD_NBR    72637 non-null  int64 \n",
      " 1   LIFESTAGE         72637 non-null  object\n",
      " 2   PREMIUM_CUSTOMER  72637 non-null  object\n",
      "dtypes: int64(1), object(2)\n",
      "memory usage: 1.7+ MB\n"
     ]
    }
   ],
   "source": [
    "purchasing_df.info()"
   ]
  },
  {
   "cell_type": "code",
   "execution_count": 5,
   "id": "c8877ed1",
   "metadata": {},
   "outputs": [
    {
     "data": {
      "text/plain": [
       "LYLTY_CARD_NBR       int64\n",
       "LIFESTAGE           object\n",
       "PREMIUM_CUSTOMER    object\n",
       "dtype: object"
      ]
     },
     "execution_count": 5,
     "metadata": {},
     "output_type": "execute_result"
    }
   ],
   "source": [
    "#checking data types\n",
    "purchasing_df.dtypes"
   ]
  },
  {
   "cell_type": "code",
   "execution_count": 6,
   "id": "81d77a1e",
   "metadata": {},
   "outputs": [
    {
     "data": {
      "text/plain": [
       "LYLTY_CARD_NBR      0\n",
       "LIFESTAGE           0\n",
       "PREMIUM_CUSTOMER    0\n",
       "dtype: int64"
      ]
     },
     "execution_count": 6,
     "metadata": {},
     "output_type": "execute_result"
    }
   ],
   "source": [
    "#null values\n",
    "purchasing_df.isna().sum()"
   ]
  },
  {
   "cell_type": "code",
   "execution_count": 7,
   "id": "7f9a8703",
   "metadata": {},
   "outputs": [
    {
     "data": {
      "text/plain": [
       "Series([], dtype: int64)"
      ]
     },
     "execution_count": 7,
     "metadata": {},
     "output_type": "execute_result"
    }
   ],
   "source": [
    "#Check for zero values\n",
    "df_zeros = purchasing_df[purchasing_df == 0.0].count()\n",
    "df_zeros\n",
    "df_zeros[df_zeros > 0]"
   ]
  },
  {
   "cell_type": "code",
   "execution_count": 8,
   "id": "949dee07",
   "metadata": {},
   "outputs": [],
   "source": [
    "#Remove trailing spaces at the end of columns\n",
    "purchasing_df.columns = purchasing_df.columns.str.strip()"
   ]
  },
  {
   "cell_type": "code",
   "execution_count": 9,
   "id": "c4ca355d",
   "metadata": {},
   "outputs": [
    {
     "data": {
      "text/plain": [
       "0        False\n",
       "1        False\n",
       "2        False\n",
       "3        False\n",
       "4        False\n",
       "         ...  \n",
       "72632    False\n",
       "72633    False\n",
       "72634    False\n",
       "72635    False\n",
       "72636    False\n",
       "Length: 72637, dtype: bool"
      ]
     },
     "execution_count": 9,
     "metadata": {},
     "output_type": "execute_result"
    }
   ],
   "source": [
    "#checking for duplicates\n",
    "purchasing_df.duplicated()"
   ]
  },
  {
   "cell_type": "code",
   "execution_count": 10,
   "id": "5e279d56",
   "metadata": {},
   "outputs": [
    {
     "data": {
      "text/plain": [
       "array(['YOUNG SINGLES/COUPLES', 'YOUNG FAMILIES', 'OLDER SINGLES/COUPLES',\n",
       "       'MIDAGE SINGLES/COUPLES', 'NEW FAMILIES', 'OLDER FAMILIES',\n",
       "       'RETIREES'], dtype=object)"
      ]
     },
     "execution_count": 10,
     "metadata": {},
     "output_type": "execute_result"
    }
   ],
   "source": [
    "#data consistency\n",
    "purchasing_df['LIFESTAGE'].unique()"
   ]
  },
  {
   "cell_type": "code",
   "execution_count": 11,
   "id": "8fd97513",
   "metadata": {},
   "outputs": [
    {
     "data": {
      "text/plain": [
       "LIFESTAGE\n",
       "RETIREES                  14805\n",
       "OLDER SINGLES/COUPLES     14609\n",
       "YOUNG SINGLES/COUPLES     14441\n",
       "OLDER FAMILIES             9780\n",
       "YOUNG FAMILIES             9178\n",
       "MIDAGE SINGLES/COUPLES     7275\n",
       "NEW FAMILIES               2549\n",
       "Name: count, dtype: int64"
      ]
     },
     "execution_count": 11,
     "metadata": {},
     "output_type": "execute_result"
    }
   ],
   "source": [
    "#total count per column\n",
    "purchasing_df['LIFESTAGE'].value_counts()"
   ]
  },
  {
   "cell_type": "raw",
   "id": "2a5e764d",
   "metadata": {},
   "source": [
    "Retirees with the highest value\n",
    "New families represent low value in terms of purchasing behaviour\n",
    "This will definitely affect the analysis of the data due to the misrepresentation of different lifestages"
   ]
  },
  {
   "cell_type": "code",
   "execution_count": 12,
   "id": "8b46c9dc",
   "metadata": {},
   "outputs": [
    {
     "data": {
      "text/plain": [
       "array(['Premium', 'Mainstream', 'Budget'], dtype=object)"
      ]
     },
     "execution_count": 12,
     "metadata": {},
     "output_type": "execute_result"
    }
   ],
   "source": [
    "purchasing_df['PREMIUM_CUSTOMER'].unique()"
   ]
  },
  {
   "cell_type": "code",
   "execution_count": 13,
   "id": "0552d7da",
   "metadata": {},
   "outputs": [
    {
     "data": {
      "text/plain": [
       "PREMIUM_CUSTOMER\n",
       "Mainstream    29245\n",
       "Budget        24470\n",
       "Premium       18922\n",
       "Name: count, dtype: int64"
      ]
     },
     "execution_count": 13,
     "metadata": {},
     "output_type": "execute_result"
    }
   ],
   "source": [
    "purchasing_df['PREMIUM_CUSTOMER'].value_counts()"
   ]
  },
  {
   "cell_type": "code",
   "execution_count": 14,
   "id": "8348baf1",
   "metadata": {},
   "outputs": [
    {
     "data": {
      "text/html": [
       "<div>\n",
       "<style scoped>\n",
       "    .dataframe tbody tr th:only-of-type {\n",
       "        vertical-align: middle;\n",
       "    }\n",
       "\n",
       "    .dataframe tbody tr th {\n",
       "        vertical-align: top;\n",
       "    }\n",
       "\n",
       "    .dataframe thead th {\n",
       "        text-align: right;\n",
       "    }\n",
       "</style>\n",
       "<table border=\"1\" class=\"dataframe\">\n",
       "  <thead>\n",
       "    <tr style=\"text-align: right;\">\n",
       "      <th></th>\n",
       "      <th>DATE</th>\n",
       "      <th>STORE_NBR</th>\n",
       "      <th>LYLTY_CARD_NBR</th>\n",
       "      <th>TXN_ID</th>\n",
       "      <th>PROD_NBR</th>\n",
       "      <th>PROD_NAME</th>\n",
       "      <th>PROD_QTY</th>\n",
       "      <th>TOT_SALES</th>\n",
       "    </tr>\n",
       "  </thead>\n",
       "  <tbody>\n",
       "    <tr>\n",
       "      <th>0</th>\n",
       "      <td>43390</td>\n",
       "      <td>1</td>\n",
       "      <td>1000</td>\n",
       "      <td>1</td>\n",
       "      <td>5</td>\n",
       "      <td>Natural Chip        Compny SeaSalt175g</td>\n",
       "      <td>2</td>\n",
       "      <td>6.0</td>\n",
       "    </tr>\n",
       "    <tr>\n",
       "      <th>1</th>\n",
       "      <td>43599</td>\n",
       "      <td>1</td>\n",
       "      <td>1307</td>\n",
       "      <td>348</td>\n",
       "      <td>66</td>\n",
       "      <td>CCs Nacho Cheese    175g</td>\n",
       "      <td>3</td>\n",
       "      <td>6.3</td>\n",
       "    </tr>\n",
       "    <tr>\n",
       "      <th>2</th>\n",
       "      <td>43605</td>\n",
       "      <td>1</td>\n",
       "      <td>1343</td>\n",
       "      <td>383</td>\n",
       "      <td>61</td>\n",
       "      <td>Smiths Crinkle Cut  Chips Chicken 170g</td>\n",
       "      <td>2</td>\n",
       "      <td>2.9</td>\n",
       "    </tr>\n",
       "    <tr>\n",
       "      <th>3</th>\n",
       "      <td>43329</td>\n",
       "      <td>2</td>\n",
       "      <td>2373</td>\n",
       "      <td>974</td>\n",
       "      <td>69</td>\n",
       "      <td>Smiths Chip Thinly  S/Cream&amp;Onion 175g</td>\n",
       "      <td>5</td>\n",
       "      <td>15.0</td>\n",
       "    </tr>\n",
       "    <tr>\n",
       "      <th>4</th>\n",
       "      <td>43330</td>\n",
       "      <td>2</td>\n",
       "      <td>2426</td>\n",
       "      <td>1038</td>\n",
       "      <td>108</td>\n",
       "      <td>Kettle Tortilla ChpsHny&amp;Jlpno Chili 150g</td>\n",
       "      <td>3</td>\n",
       "      <td>13.8</td>\n",
       "    </tr>\n",
       "  </tbody>\n",
       "</table>\n",
       "</div>"
      ],
      "text/plain": [
       "    DATE  STORE_NBR  LYLTY_CARD_NBR  TXN_ID  PROD_NBR  \\\n",
       "0  43390          1            1000       1         5   \n",
       "1  43599          1            1307     348        66   \n",
       "2  43605          1            1343     383        61   \n",
       "3  43329          2            2373     974        69   \n",
       "4  43330          2            2426    1038       108   \n",
       "\n",
       "                                  PROD_NAME  PROD_QTY  TOT_SALES  \n",
       "0    Natural Chip        Compny SeaSalt175g         2        6.0  \n",
       "1                  CCs Nacho Cheese    175g         3        6.3  \n",
       "2    Smiths Crinkle Cut  Chips Chicken 170g         2        2.9  \n",
       "3    Smiths Chip Thinly  S/Cream&Onion 175g         5       15.0  \n",
       "4  Kettle Tortilla ChpsHny&Jlpno Chili 150g         3       13.8  "
      ]
     },
     "execution_count": 14,
     "metadata": {},
     "output_type": "execute_result"
    }
   ],
   "source": [
    "transactions_df=pd.read_excel('QVI_transaction_data.xlsx')\n",
    "transactions_df.head()"
   ]
  },
  {
   "cell_type": "code",
   "execution_count": 15,
   "id": "3f523b79",
   "metadata": {},
   "outputs": [
    {
     "data": {
      "text/plain": [
       "(264836, 8)"
      ]
     },
     "execution_count": 15,
     "metadata": {},
     "output_type": "execute_result"
    }
   ],
   "source": [
    "transactions_df.shape"
   ]
  },
  {
   "cell_type": "code",
   "execution_count": 16,
   "id": "6948f562",
   "metadata": {},
   "outputs": [
    {
     "data": {
      "text/plain": [
       "DATE              0\n",
       "STORE_NBR         0\n",
       "LYLTY_CARD_NBR    0\n",
       "TXN_ID            0\n",
       "PROD_NBR          0\n",
       "PROD_NAME         0\n",
       "PROD_QTY          0\n",
       "TOT_SALES         0\n",
       "dtype: int64"
      ]
     },
     "execution_count": 16,
     "metadata": {},
     "output_type": "execute_result"
    }
   ],
   "source": [
    "transactions_df.isna().sum()"
   ]
  },
  {
   "cell_type": "code",
   "execution_count": 17,
   "id": "61e972dc",
   "metadata": {
    "scrolled": true
   },
   "outputs": [
    {
     "data": {
      "text/html": [
       "<div>\n",
       "<style scoped>\n",
       "    .dataframe tbody tr th:only-of-type {\n",
       "        vertical-align: middle;\n",
       "    }\n",
       "\n",
       "    .dataframe tbody tr th {\n",
       "        vertical-align: top;\n",
       "    }\n",
       "\n",
       "    .dataframe thead th {\n",
       "        text-align: right;\n",
       "    }\n",
       "</style>\n",
       "<table border=\"1\" class=\"dataframe\">\n",
       "  <thead>\n",
       "    <tr style=\"text-align: right;\">\n",
       "      <th></th>\n",
       "      <th>LYLTY_CARD_NBR</th>\n",
       "      <th>LIFESTAGE</th>\n",
       "      <th>PREMIUM_CUSTOMER</th>\n",
       "      <th>DATE</th>\n",
       "      <th>STORE_NBR</th>\n",
       "      <th>TXN_ID</th>\n",
       "      <th>PROD_NBR</th>\n",
       "      <th>PROD_NAME</th>\n",
       "      <th>PROD_QTY</th>\n",
       "      <th>TOT_SALES</th>\n",
       "    </tr>\n",
       "  </thead>\n",
       "  <tbody>\n",
       "    <tr>\n",
       "      <th>0</th>\n",
       "      <td>1000</td>\n",
       "      <td>YOUNG SINGLES/COUPLES</td>\n",
       "      <td>Premium</td>\n",
       "      <td>43390</td>\n",
       "      <td>1</td>\n",
       "      <td>1</td>\n",
       "      <td>5</td>\n",
       "      <td>Natural Chip        Compny SeaSalt175g</td>\n",
       "      <td>2</td>\n",
       "      <td>6.0</td>\n",
       "    </tr>\n",
       "    <tr>\n",
       "      <th>1</th>\n",
       "      <td>1002</td>\n",
       "      <td>YOUNG SINGLES/COUPLES</td>\n",
       "      <td>Mainstream</td>\n",
       "      <td>43359</td>\n",
       "      <td>1</td>\n",
       "      <td>2</td>\n",
       "      <td>58</td>\n",
       "      <td>Red Rock Deli Chikn&amp;Garlic Aioli 150g</td>\n",
       "      <td>1</td>\n",
       "      <td>2.7</td>\n",
       "    </tr>\n",
       "    <tr>\n",
       "      <th>2</th>\n",
       "      <td>1003</td>\n",
       "      <td>YOUNG FAMILIES</td>\n",
       "      <td>Budget</td>\n",
       "      <td>43531</td>\n",
       "      <td>1</td>\n",
       "      <td>3</td>\n",
       "      <td>52</td>\n",
       "      <td>Grain Waves Sour    Cream&amp;Chives 210G</td>\n",
       "      <td>1</td>\n",
       "      <td>3.6</td>\n",
       "    </tr>\n",
       "    <tr>\n",
       "      <th>3</th>\n",
       "      <td>1003</td>\n",
       "      <td>YOUNG FAMILIES</td>\n",
       "      <td>Budget</td>\n",
       "      <td>43532</td>\n",
       "      <td>1</td>\n",
       "      <td>4</td>\n",
       "      <td>106</td>\n",
       "      <td>Natural ChipCo      Hony Soy Chckn175g</td>\n",
       "      <td>1</td>\n",
       "      <td>3.0</td>\n",
       "    </tr>\n",
       "    <tr>\n",
       "      <th>4</th>\n",
       "      <td>1004</td>\n",
       "      <td>OLDER SINGLES/COUPLES</td>\n",
       "      <td>Mainstream</td>\n",
       "      <td>43406</td>\n",
       "      <td>1</td>\n",
       "      <td>5</td>\n",
       "      <td>96</td>\n",
       "      <td>WW Original Stacked Chips 160g</td>\n",
       "      <td>1</td>\n",
       "      <td>1.9</td>\n",
       "    </tr>\n",
       "    <tr>\n",
       "      <th>...</th>\n",
       "      <td>...</td>\n",
       "      <td>...</td>\n",
       "      <td>...</td>\n",
       "      <td>...</td>\n",
       "      <td>...</td>\n",
       "      <td>...</td>\n",
       "      <td>...</td>\n",
       "      <td>...</td>\n",
       "      <td>...</td>\n",
       "      <td>...</td>\n",
       "    </tr>\n",
       "    <tr>\n",
       "      <th>264831</th>\n",
       "      <td>2370701</td>\n",
       "      <td>YOUNG FAMILIES</td>\n",
       "      <td>Mainstream</td>\n",
       "      <td>43442</td>\n",
       "      <td>88</td>\n",
       "      <td>240378</td>\n",
       "      <td>24</td>\n",
       "      <td>Grain Waves         Sweet Chilli 210g</td>\n",
       "      <td>2</td>\n",
       "      <td>7.2</td>\n",
       "    </tr>\n",
       "    <tr>\n",
       "      <th>264832</th>\n",
       "      <td>2370751</td>\n",
       "      <td>YOUNG FAMILIES</td>\n",
       "      <td>Premium</td>\n",
       "      <td>43374</td>\n",
       "      <td>88</td>\n",
       "      <td>240394</td>\n",
       "      <td>60</td>\n",
       "      <td>Kettle Tortilla ChpsFeta&amp;Garlic 150g</td>\n",
       "      <td>2</td>\n",
       "      <td>9.2</td>\n",
       "    </tr>\n",
       "    <tr>\n",
       "      <th>264833</th>\n",
       "      <td>2370961</td>\n",
       "      <td>OLDER FAMILIES</td>\n",
       "      <td>Budget</td>\n",
       "      <td>43397</td>\n",
       "      <td>88</td>\n",
       "      <td>240480</td>\n",
       "      <td>70</td>\n",
       "      <td>Tyrrells Crisps     Lightly Salted 165g</td>\n",
       "      <td>2</td>\n",
       "      <td>8.4</td>\n",
       "    </tr>\n",
       "    <tr>\n",
       "      <th>264834</th>\n",
       "      <td>2370961</td>\n",
       "      <td>OLDER FAMILIES</td>\n",
       "      <td>Budget</td>\n",
       "      <td>43400</td>\n",
       "      <td>88</td>\n",
       "      <td>240481</td>\n",
       "      <td>65</td>\n",
       "      <td>Old El Paso Salsa   Dip Chnky Tom Ht300g</td>\n",
       "      <td>2</td>\n",
       "      <td>10.2</td>\n",
       "    </tr>\n",
       "    <tr>\n",
       "      <th>264835</th>\n",
       "      <td>2373711</td>\n",
       "      <td>YOUNG SINGLES/COUPLES</td>\n",
       "      <td>Mainstream</td>\n",
       "      <td>43448</td>\n",
       "      <td>88</td>\n",
       "      <td>241815</td>\n",
       "      <td>16</td>\n",
       "      <td>Smiths Crinkle Chips Salt &amp; Vinegar 330g</td>\n",
       "      <td>2</td>\n",
       "      <td>11.4</td>\n",
       "    </tr>\n",
       "  </tbody>\n",
       "</table>\n",
       "<p>264836 rows × 10 columns</p>\n",
       "</div>"
      ],
      "text/plain": [
       "        LYLTY_CARD_NBR              LIFESTAGE PREMIUM_CUSTOMER   DATE  \\\n",
       "0                 1000  YOUNG SINGLES/COUPLES          Premium  43390   \n",
       "1                 1002  YOUNG SINGLES/COUPLES       Mainstream  43359   \n",
       "2                 1003         YOUNG FAMILIES           Budget  43531   \n",
       "3                 1003         YOUNG FAMILIES           Budget  43532   \n",
       "4                 1004  OLDER SINGLES/COUPLES       Mainstream  43406   \n",
       "...                ...                    ...              ...    ...   \n",
       "264831         2370701         YOUNG FAMILIES       Mainstream  43442   \n",
       "264832         2370751         YOUNG FAMILIES          Premium  43374   \n",
       "264833         2370961         OLDER FAMILIES           Budget  43397   \n",
       "264834         2370961         OLDER FAMILIES           Budget  43400   \n",
       "264835         2373711  YOUNG SINGLES/COUPLES       Mainstream  43448   \n",
       "\n",
       "        STORE_NBR  TXN_ID  PROD_NBR                                 PROD_NAME  \\\n",
       "0               1       1         5    Natural Chip        Compny SeaSalt175g   \n",
       "1               1       2        58     Red Rock Deli Chikn&Garlic Aioli 150g   \n",
       "2               1       3        52     Grain Waves Sour    Cream&Chives 210G   \n",
       "3               1       4       106    Natural ChipCo      Hony Soy Chckn175g   \n",
       "4               1       5        96            WW Original Stacked Chips 160g   \n",
       "...           ...     ...       ...                                       ...   \n",
       "264831         88  240378        24     Grain Waves         Sweet Chilli 210g   \n",
       "264832         88  240394        60      Kettle Tortilla ChpsFeta&Garlic 150g   \n",
       "264833         88  240480        70   Tyrrells Crisps     Lightly Salted 165g   \n",
       "264834         88  240481        65  Old El Paso Salsa   Dip Chnky Tom Ht300g   \n",
       "264835         88  241815        16  Smiths Crinkle Chips Salt & Vinegar 330g   \n",
       "\n",
       "        PROD_QTY  TOT_SALES  \n",
       "0              2        6.0  \n",
       "1              1        2.7  \n",
       "2              1        3.6  \n",
       "3              1        3.0  \n",
       "4              1        1.9  \n",
       "...          ...        ...  \n",
       "264831         2        7.2  \n",
       "264832         2        9.2  \n",
       "264833         2        8.4  \n",
       "264834         2       10.2  \n",
       "264835         2       11.4  \n",
       "\n",
       "[264836 rows x 10 columns]"
      ]
     },
     "metadata": {},
     "output_type": "display_data"
    }
   ],
   "source": [
    "#Merge transaction and purchasing df on Loyalty card nbr column\n",
    "\n",
    "merged_df = pd.merge(purchasing_df, transactions_df, on='LYLTY_CARD_NBR')\n",
    "\n",
    "display(merged_df)"
   ]
  },
  {
   "cell_type": "code",
   "execution_count": 18,
   "id": "4819c0a9",
   "metadata": {},
   "outputs": [
    {
     "data": {
      "text/plain": [
       "Series([], dtype: int64)"
      ]
     },
     "execution_count": 18,
     "metadata": {},
     "output_type": "execute_result"
    }
   ],
   "source": [
    "#lets filter for columns with atleast one null value\n",
    "merged_df.isnull().sum()[merged_df.isnull().sum()>0]"
   ]
  },
  {
   "cell_type": "code",
   "execution_count": 19,
   "id": "bc18db06",
   "metadata": {},
   "outputs": [
    {
     "name": "stdout",
     "output_type": "stream",
     "text": [
      "<class 'pandas.core.frame.DataFrame'>\n",
      "RangeIndex: 264836 entries, 0 to 264835\n",
      "Data columns (total 10 columns):\n",
      " #   Column            Non-Null Count   Dtype  \n",
      "---  ------            --------------   -----  \n",
      " 0   LYLTY_CARD_NBR    264836 non-null  int64  \n",
      " 1   LIFESTAGE         264836 non-null  object \n",
      " 2   PREMIUM_CUSTOMER  264836 non-null  object \n",
      " 3   DATE              264836 non-null  int64  \n",
      " 4   STORE_NBR         264836 non-null  int64  \n",
      " 5   TXN_ID            264836 non-null  int64  \n",
      " 6   PROD_NBR          264836 non-null  int64  \n",
      " 7   PROD_NAME         264836 non-null  object \n",
      " 8   PROD_QTY          264836 non-null  int64  \n",
      " 9   TOT_SALES         264836 non-null  float64\n",
      "dtypes: float64(1), int64(6), object(3)\n",
      "memory usage: 20.2+ MB\n"
     ]
    }
   ],
   "source": [
    "merged_df.info()"
   ]
  },
  {
   "cell_type": "code",
   "execution_count": 20,
   "id": "93e628fc",
   "metadata": {},
   "outputs": [
    {
     "data": {
      "text/plain": [
       "LYLTY_CARD_NBR      0\n",
       "LIFESTAGE           0\n",
       "PREMIUM_CUSTOMER    0\n",
       "DATE                0\n",
       "STORE_NBR           0\n",
       "TXN_ID              0\n",
       "PROD_NBR            0\n",
       "PROD_NAME           0\n",
       "PROD_QTY            0\n",
       "TOT_SALES           0\n",
       "dtype: int64"
      ]
     },
     "execution_count": 20,
     "metadata": {},
     "output_type": "execute_result"
    }
   ],
   "source": [
    "#to check for Zeros in df\n",
    "merged_df_zeros = merged_df[merged_df == 0.0].count()\n",
    "merged_df_zeros"
   ]
  },
  {
   "cell_type": "code",
   "execution_count": 21,
   "id": "6c31f6cb",
   "metadata": {},
   "outputs": [],
   "source": [
    "#lets convert DATE to DATETIME type\n",
    "merged_df['DATE'] = pd.to_datetime(merged_df['DATE'],unit='D', origin='1899-12-30')\n"
   ]
  },
  {
   "cell_type": "code",
   "execution_count": 22,
   "id": "a25b71a2",
   "metadata": {},
   "outputs": [
    {
     "data": {
      "text/html": [
       "<div>\n",
       "<style scoped>\n",
       "    .dataframe tbody tr th:only-of-type {\n",
       "        vertical-align: middle;\n",
       "    }\n",
       "\n",
       "    .dataframe tbody tr th {\n",
       "        vertical-align: top;\n",
       "    }\n",
       "\n",
       "    .dataframe thead th {\n",
       "        text-align: right;\n",
       "    }\n",
       "</style>\n",
       "<table border=\"1\" class=\"dataframe\">\n",
       "  <thead>\n",
       "    <tr style=\"text-align: right;\">\n",
       "      <th></th>\n",
       "      <th>LYLTY_CARD_NBR</th>\n",
       "      <th>LIFESTAGE</th>\n",
       "      <th>PREMIUM_CUSTOMER</th>\n",
       "      <th>DATE</th>\n",
       "      <th>STORE_NBR</th>\n",
       "      <th>TXN_ID</th>\n",
       "      <th>PROD_NBR</th>\n",
       "      <th>PROD_NAME</th>\n",
       "      <th>PROD_QTY</th>\n",
       "      <th>TOT_SALES</th>\n",
       "    </tr>\n",
       "  </thead>\n",
       "  <tbody>\n",
       "    <tr>\n",
       "      <th>0</th>\n",
       "      <td>1000</td>\n",
       "      <td>YOUNG SINGLES/COUPLES</td>\n",
       "      <td>Premium</td>\n",
       "      <td>2018-10-17</td>\n",
       "      <td>1</td>\n",
       "      <td>1</td>\n",
       "      <td>5</td>\n",
       "      <td>Natural Chip        Compny SeaSalt175g</td>\n",
       "      <td>2</td>\n",
       "      <td>6.0</td>\n",
       "    </tr>\n",
       "    <tr>\n",
       "      <th>1</th>\n",
       "      <td>1002</td>\n",
       "      <td>YOUNG SINGLES/COUPLES</td>\n",
       "      <td>Mainstream</td>\n",
       "      <td>2018-09-16</td>\n",
       "      <td>1</td>\n",
       "      <td>2</td>\n",
       "      <td>58</td>\n",
       "      <td>Red Rock Deli Chikn&amp;Garlic Aioli 150g</td>\n",
       "      <td>1</td>\n",
       "      <td>2.7</td>\n",
       "    </tr>\n",
       "    <tr>\n",
       "      <th>2</th>\n",
       "      <td>1003</td>\n",
       "      <td>YOUNG FAMILIES</td>\n",
       "      <td>Budget</td>\n",
       "      <td>2019-03-07</td>\n",
       "      <td>1</td>\n",
       "      <td>3</td>\n",
       "      <td>52</td>\n",
       "      <td>Grain Waves Sour    Cream&amp;Chives 210G</td>\n",
       "      <td>1</td>\n",
       "      <td>3.6</td>\n",
       "    </tr>\n",
       "    <tr>\n",
       "      <th>3</th>\n",
       "      <td>1003</td>\n",
       "      <td>YOUNG FAMILIES</td>\n",
       "      <td>Budget</td>\n",
       "      <td>2019-03-08</td>\n",
       "      <td>1</td>\n",
       "      <td>4</td>\n",
       "      <td>106</td>\n",
       "      <td>Natural ChipCo      Hony Soy Chckn175g</td>\n",
       "      <td>1</td>\n",
       "      <td>3.0</td>\n",
       "    </tr>\n",
       "    <tr>\n",
       "      <th>4</th>\n",
       "      <td>1004</td>\n",
       "      <td>OLDER SINGLES/COUPLES</td>\n",
       "      <td>Mainstream</td>\n",
       "      <td>2018-11-02</td>\n",
       "      <td>1</td>\n",
       "      <td>5</td>\n",
       "      <td>96</td>\n",
       "      <td>WW Original Stacked Chips 160g</td>\n",
       "      <td>1</td>\n",
       "      <td>1.9</td>\n",
       "    </tr>\n",
       "  </tbody>\n",
       "</table>\n",
       "</div>"
      ],
      "text/plain": [
       "   LYLTY_CARD_NBR              LIFESTAGE PREMIUM_CUSTOMER       DATE  \\\n",
       "0            1000  YOUNG SINGLES/COUPLES          Premium 2018-10-17   \n",
       "1            1002  YOUNG SINGLES/COUPLES       Mainstream 2018-09-16   \n",
       "2            1003         YOUNG FAMILIES           Budget 2019-03-07   \n",
       "3            1003         YOUNG FAMILIES           Budget 2019-03-08   \n",
       "4            1004  OLDER SINGLES/COUPLES       Mainstream 2018-11-02   \n",
       "\n",
       "   STORE_NBR  TXN_ID  PROD_NBR                               PROD_NAME  \\\n",
       "0          1       1         5  Natural Chip        Compny SeaSalt175g   \n",
       "1          1       2        58   Red Rock Deli Chikn&Garlic Aioli 150g   \n",
       "2          1       3        52   Grain Waves Sour    Cream&Chives 210G   \n",
       "3          1       4       106  Natural ChipCo      Hony Soy Chckn175g   \n",
       "4          1       5        96          WW Original Stacked Chips 160g   \n",
       "\n",
       "   PROD_QTY  TOT_SALES  \n",
       "0         2        6.0  \n",
       "1         1        2.7  \n",
       "2         1        3.6  \n",
       "3         1        3.0  \n",
       "4         1        1.9  "
      ]
     },
     "execution_count": 22,
     "metadata": {},
     "output_type": "execute_result"
    }
   ],
   "source": [
    "merged_df.head()"
   ]
  },
  {
   "cell_type": "code",
   "execution_count": 23,
   "id": "0ba805c9",
   "metadata": {},
   "outputs": [
    {
     "name": "stdout",
     "output_type": "stream",
     "text": [
      "<class 'pandas.core.frame.DataFrame'>\n",
      "RangeIndex: 264836 entries, 0 to 264835\n",
      "Data columns (total 10 columns):\n",
      " #   Column            Non-Null Count   Dtype         \n",
      "---  ------            --------------   -----         \n",
      " 0   LYLTY_CARD_NBR    264836 non-null  int64         \n",
      " 1   LIFESTAGE         264836 non-null  object        \n",
      " 2   PREMIUM_CUSTOMER  264836 non-null  object        \n",
      " 3   DATE              264836 non-null  datetime64[ns]\n",
      " 4   STORE_NBR         264836 non-null  int64         \n",
      " 5   TXN_ID            264836 non-null  int64         \n",
      " 6   PROD_NBR          264836 non-null  int64         \n",
      " 7   PROD_NAME         264836 non-null  object        \n",
      " 8   PROD_QTY          264836 non-null  int64         \n",
      " 9   TOT_SALES         264836 non-null  float64       \n",
      "dtypes: datetime64[ns](1), float64(1), int64(5), object(3)\n",
      "memory usage: 20.2+ MB\n"
     ]
    }
   ],
   "source": [
    "merged_df.info()"
   ]
  },
  {
   "cell_type": "code",
   "execution_count": 24,
   "id": "57c2aab3",
   "metadata": {},
   "outputs": [
    {
     "data": {
      "text/plain": [
       "LYLTY_CARD_NBR      0\n",
       "LIFESTAGE           0\n",
       "PREMIUM_CUSTOMER    0\n",
       "DATE                0\n",
       "STORE_NBR           0\n",
       "TXN_ID              0\n",
       "PROD_NBR            0\n",
       "PROD_NAME           0\n",
       "PROD_QTY            0\n",
       "TOT_SALES           0\n",
       "dtype: int64"
      ]
     },
     "execution_count": 24,
     "metadata": {},
     "output_type": "execute_result"
    }
   ],
   "source": [
    "merged_df.isna().sum()"
   ]
  },
  {
   "cell_type": "code",
   "execution_count": 25,
   "id": "19e7b0a6",
   "metadata": {},
   "outputs": [
    {
     "data": {
      "text/plain": [
       "PROD_NAME\n",
       "Kettle Mozzarella   Basil & Pesto 175g      3304\n",
       "Kettle Tortilla ChpsHny&Jlpno Chili 150g    3296\n",
       "Cobs Popd Swt/Chlli &Sr/Cream Chips 110g    3269\n",
       "Tyrrells Crisps     Ched & Chives 165g      3268\n",
       "Cobs Popd Sea Salt  Chips 110g              3265\n",
       "                                            ... \n",
       "RRD Pc Sea Salt     165g                    1431\n",
       "Woolworths Medium   Salsa 300g              1430\n",
       "NCC Sour Cream &    Garden Chives 175g      1419\n",
       "French Fries Potato Chips 175g              1418\n",
       "WW Crinkle Cut      Original 175g           1410\n",
       "Name: count, Length: 114, dtype: int64"
      ]
     },
     "execution_count": 25,
     "metadata": {},
     "output_type": "execute_result"
    }
   ],
   "source": [
    "#checking for prod name and quantities\n",
    "merged_df['PROD_NAME'].value_counts()"
   ]
  },
  {
   "cell_type": "code",
   "execution_count": 26,
   "id": "57ccb42f",
   "metadata": {},
   "outputs": [
    {
     "data": {
      "text/plain": [
       "{'Burger Rings 220g',\n",
       " 'CCs Nacho Cheese    175g',\n",
       " 'CCs Original 175g',\n",
       " 'CCs Tasty Cheese    175g',\n",
       " 'Cheetos Chs & Bacon Balls 190g',\n",
       " 'Cheetos Puffs 165g',\n",
       " 'Cheezels Cheese 330g',\n",
       " 'Cheezels Cheese Box 125g',\n",
       " 'Cobs Popd Sea Salt  Chips 110g',\n",
       " 'Cobs Popd Sour Crm  &Chives Chips 110g',\n",
       " 'Cobs Popd Swt/Chlli &Sr/Cream Chips 110g',\n",
       " 'Dorito Corn Chp     Supreme 380g',\n",
       " 'Doritos Cheese      Supreme 330g',\n",
       " 'Doritos Corn Chip Mexican Jalapeno 150g',\n",
       " 'Doritos Corn Chip Southern Chicken 150g',\n",
       " 'Doritos Corn Chips  Cheese Supreme 170g',\n",
       " 'Doritos Corn Chips  Nacho Cheese 170g',\n",
       " 'Doritos Corn Chips  Original 170g',\n",
       " 'Doritos Mexicana    170g',\n",
       " 'Doritos Salsa       Medium 300g',\n",
       " 'Doritos Salsa Mild  300g',\n",
       " 'French Fries Potato Chips 175g',\n",
       " 'Grain Waves         Sweet Chilli 210g',\n",
       " 'Grain Waves Sour    Cream&Chives 210G',\n",
       " 'GrnWves Plus Btroot & Chilli Jam 180g',\n",
       " 'Infuzions BBQ Rib   Prawn Crackers 110g',\n",
       " 'Infuzions Mango     Chutny Papadums 70g',\n",
       " 'Infuzions SourCream&Herbs Veg Strws 110g',\n",
       " 'Infuzions Thai SweetChili PotatoMix 110g',\n",
       " 'Infzns Crn Crnchers Tangy Gcamole 110g',\n",
       " 'Kettle 135g Swt Pot Sea Salt',\n",
       " 'Kettle Chilli 175g',\n",
       " 'Kettle Honey Soy    Chicken 175g',\n",
       " 'Kettle Mozzarella   Basil & Pesto 175g',\n",
       " 'Kettle Original 175g',\n",
       " 'Kettle Sea Salt     And Vinegar 175g',\n",
       " 'Kettle Sensations   BBQ&Maple 150g',\n",
       " 'Kettle Sensations   Camembert & Fig 150g',\n",
       " 'Kettle Sensations   Siracha Lime 150g',\n",
       " 'Kettle Sweet Chilli And Sour Cream 175g',\n",
       " 'Kettle Tortilla ChpsBtroot&Ricotta 150g',\n",
       " 'Kettle Tortilla ChpsFeta&Garlic 150g',\n",
       " 'Kettle Tortilla ChpsHny&Jlpno Chili 150g',\n",
       " 'NCC Sour Cream &    Garden Chives 175g',\n",
       " 'Natural Chip        Compny SeaSalt175g',\n",
       " 'Natural Chip Co     Tmato Hrb&Spce 175g',\n",
       " 'Natural ChipCo      Hony Soy Chckn175g',\n",
       " 'Natural ChipCo Sea  Salt & Vinegr 175g',\n",
       " 'Old El Paso Salsa   Dip Chnky Tom Ht300g',\n",
       " 'Old El Paso Salsa   Dip Tomato Med 300g',\n",
       " 'Old El Paso Salsa   Dip Tomato Mild 300g',\n",
       " 'Pringles Barbeque   134g',\n",
       " 'Pringles Chicken    Salt Crips 134g',\n",
       " 'Pringles Mystery    Flavour 134g',\n",
       " 'Pringles Original   Crisps 134g',\n",
       " 'Pringles Slt Vingar 134g',\n",
       " 'Pringles SourCream  Onion 134g',\n",
       " 'Pringles Sthrn FriedChicken 134g',\n",
       " 'Pringles Sweet&Spcy BBQ 134g',\n",
       " 'RRD Chilli&         Coconut 150g',\n",
       " 'RRD Honey Soy       Chicken 165g',\n",
       " 'RRD Lime & Pepper   165g',\n",
       " 'RRD Pc Sea Salt     165g',\n",
       " 'RRD SR Slow Rst     Pork Belly 150g',\n",
       " 'RRD Salt & Vinegar  165g',\n",
       " 'RRD Steak &         Chimuchurri 150g',\n",
       " 'RRD Sweet Chilli &  Sour Cream 165g',\n",
       " 'Red Rock Deli Chikn&Garlic Aioli 150g',\n",
       " 'Red Rock Deli SR    Salsa & Mzzrlla 150g',\n",
       " 'Red Rock Deli Sp    Salt & Truffle 150G',\n",
       " 'Red Rock Deli Thai  Chilli&Lime 150g',\n",
       " 'Smith Crinkle Cut   Bolognese 150g',\n",
       " 'Smith Crinkle Cut   Mac N Cheese 150g',\n",
       " 'Smiths Chip Thinly  Cut Original 175g',\n",
       " 'Smiths Chip Thinly  CutSalt/Vinegr175g',\n",
       " 'Smiths Chip Thinly  S/Cream&Onion 175g',\n",
       " 'Smiths Crinkle      Original 330g',\n",
       " 'Smiths Crinkle Chips Salt & Vinegar 330g',\n",
       " 'Smiths Crinkle Cut  Chips Barbecue 170g',\n",
       " 'Smiths Crinkle Cut  Chips Chicken 170g',\n",
       " 'Smiths Crinkle Cut  Chips Chs&Onion170g',\n",
       " 'Smiths Crinkle Cut  Chips Original 170g',\n",
       " 'Smiths Crinkle Cut  French OnionDip 150g',\n",
       " 'Smiths Crinkle Cut  Salt & Vinegar 170g',\n",
       " 'Smiths Crinkle Cut  Snag&Sauce 150g',\n",
       " 'Smiths Crinkle Cut  Tomato Salsa 150g',\n",
       " 'Smiths Crnkle Chip  Orgnl Big Bag 380g',\n",
       " 'Smiths Thinly       Swt Chli&S/Cream175G',\n",
       " 'Smiths Thinly Cut   Roast Chicken 175g',\n",
       " 'Snbts Whlgrn Crisps Cheddr&Mstrd 90g',\n",
       " 'Sunbites Whlegrn    Crisps Frch/Onin 90g',\n",
       " 'Thins Chips         Originl saltd 175g',\n",
       " 'Thins Chips Light&  Tangy 175g',\n",
       " 'Thins Chips Salt &  Vinegar 175g',\n",
       " 'Thins Chips Seasonedchicken 175g',\n",
       " 'Thins Potato Chips  Hot & Spicy 175g',\n",
       " 'Tostitos Lightly    Salted 175g',\n",
       " 'Tostitos Smoked     Chipotle 175g',\n",
       " 'Tostitos Splash Of  Lime 175g',\n",
       " 'Twisties Cheese     270g',\n",
       " 'Twisties Cheese     Burger 250g',\n",
       " 'Twisties Chicken270g',\n",
       " 'Tyrrells Crisps     Ched & Chives 165g',\n",
       " 'Tyrrells Crisps     Lightly Salted 165g',\n",
       " 'WW Crinkle Cut      Chicken 175g',\n",
       " 'WW Crinkle Cut      Original 175g',\n",
       " 'WW D/Style Chip     Sea Salt 200g',\n",
       " 'WW Original Corn    Chips 200g',\n",
       " 'WW Original Stacked Chips 160g',\n",
       " 'WW Sour Cream &OnionStacked Chips 160g',\n",
       " 'WW Supreme Cheese   Corn Chips 200g',\n",
       " 'Woolworths Cheese   Rings 190g',\n",
       " 'Woolworths Medium   Salsa 300g',\n",
       " 'Woolworths Mild     Salsa 300g'}"
      ]
     },
     "execution_count": 26,
     "metadata": {},
     "output_type": "execute_result"
    }
   ],
   "source": [
    "# Examining the words in PROD_NAME to see if there are any incorrect entries such as products that are not chips\n",
    "product_words = set(merged_df['PROD_NAME'])\n",
    "product_words\n"
   ]
  },
  {
   "cell_type": "code",
   "execution_count": 27,
   "id": "38f1479b",
   "metadata": {},
   "outputs": [],
   "source": [
    "#removing all words with digits and special characters such as ‘&’ from our set of product words\n",
    "product_words = [word for word in product_words if not any(char.isdigit() for char in word)]\n"
   ]
  },
  {
   "cell_type": "code",
   "execution_count": 28,
   "id": "1ed0eef2",
   "metadata": {},
   "outputs": [],
   "source": [
    "#I can see there are products which arent chips\n",
    "merged_df['SALSA'] = merged_df['PROD_NAME'].str.lower().str.contains('salsa')\n",
    "\n",
    "# Remove rows where SALSA is True\n",
    "merged_df = merged_df[merged_df['SALSA'] == False]\n",
    "\n",
    "# Drop the SALSA column\n",
    "merged_df.drop(columns=['SALSA'], inplace=True)\n"
   ]
  },
  {
   "cell_type": "code",
   "execution_count": 29,
   "id": "7b1837d9",
   "metadata": {},
   "outputs": [
    {
     "data": {
      "text/html": [
       "<div>\n",
       "<style scoped>\n",
       "    .dataframe tbody tr th:only-of-type {\n",
       "        vertical-align: middle;\n",
       "    }\n",
       "\n",
       "    .dataframe tbody tr th {\n",
       "        vertical-align: top;\n",
       "    }\n",
       "\n",
       "    .dataframe thead th {\n",
       "        text-align: right;\n",
       "    }\n",
       "</style>\n",
       "<table border=\"1\" class=\"dataframe\">\n",
       "  <thead>\n",
       "    <tr style=\"text-align: right;\">\n",
       "      <th></th>\n",
       "      <th>LYLTY_CARD_NBR</th>\n",
       "      <th>LIFESTAGE</th>\n",
       "      <th>PREMIUM_CUSTOMER</th>\n",
       "      <th>DATE</th>\n",
       "      <th>STORE_NBR</th>\n",
       "      <th>TXN_ID</th>\n",
       "      <th>PROD_NBR</th>\n",
       "      <th>PROD_NAME</th>\n",
       "      <th>PROD_QTY</th>\n",
       "      <th>TOT_SALES</th>\n",
       "    </tr>\n",
       "  </thead>\n",
       "  <tbody>\n",
       "    <tr>\n",
       "      <th>0</th>\n",
       "      <td>1000</td>\n",
       "      <td>YOUNG SINGLES/COUPLES</td>\n",
       "      <td>Premium</td>\n",
       "      <td>2018-10-17</td>\n",
       "      <td>1</td>\n",
       "      <td>1</td>\n",
       "      <td>5</td>\n",
       "      <td>Natural Chip        Compny SeaSalt175g</td>\n",
       "      <td>2</td>\n",
       "      <td>6.0</td>\n",
       "    </tr>\n",
       "    <tr>\n",
       "      <th>1</th>\n",
       "      <td>1002</td>\n",
       "      <td>YOUNG SINGLES/COUPLES</td>\n",
       "      <td>Mainstream</td>\n",
       "      <td>2018-09-16</td>\n",
       "      <td>1</td>\n",
       "      <td>2</td>\n",
       "      <td>58</td>\n",
       "      <td>Red Rock Deli Chikn&amp;Garlic Aioli 150g</td>\n",
       "      <td>1</td>\n",
       "      <td>2.7</td>\n",
       "    </tr>\n",
       "    <tr>\n",
       "      <th>2</th>\n",
       "      <td>1003</td>\n",
       "      <td>YOUNG FAMILIES</td>\n",
       "      <td>Budget</td>\n",
       "      <td>2019-03-07</td>\n",
       "      <td>1</td>\n",
       "      <td>3</td>\n",
       "      <td>52</td>\n",
       "      <td>Grain Waves Sour    Cream&amp;Chives 210G</td>\n",
       "      <td>1</td>\n",
       "      <td>3.6</td>\n",
       "    </tr>\n",
       "    <tr>\n",
       "      <th>3</th>\n",
       "      <td>1003</td>\n",
       "      <td>YOUNG FAMILIES</td>\n",
       "      <td>Budget</td>\n",
       "      <td>2019-03-08</td>\n",
       "      <td>1</td>\n",
       "      <td>4</td>\n",
       "      <td>106</td>\n",
       "      <td>Natural ChipCo      Hony Soy Chckn175g</td>\n",
       "      <td>1</td>\n",
       "      <td>3.0</td>\n",
       "    </tr>\n",
       "    <tr>\n",
       "      <th>4</th>\n",
       "      <td>1004</td>\n",
       "      <td>OLDER SINGLES/COUPLES</td>\n",
       "      <td>Mainstream</td>\n",
       "      <td>2018-11-02</td>\n",
       "      <td>1</td>\n",
       "      <td>5</td>\n",
       "      <td>96</td>\n",
       "      <td>WW Original Stacked Chips 160g</td>\n",
       "      <td>1</td>\n",
       "      <td>1.9</td>\n",
       "    </tr>\n",
       "  </tbody>\n",
       "</table>\n",
       "</div>"
      ],
      "text/plain": [
       "   LYLTY_CARD_NBR              LIFESTAGE PREMIUM_CUSTOMER       DATE  \\\n",
       "0            1000  YOUNG SINGLES/COUPLES          Premium 2018-10-17   \n",
       "1            1002  YOUNG SINGLES/COUPLES       Mainstream 2018-09-16   \n",
       "2            1003         YOUNG FAMILIES           Budget 2019-03-07   \n",
       "3            1003         YOUNG FAMILIES           Budget 2019-03-08   \n",
       "4            1004  OLDER SINGLES/COUPLES       Mainstream 2018-11-02   \n",
       "\n",
       "   STORE_NBR  TXN_ID  PROD_NBR                               PROD_NAME  \\\n",
       "0          1       1         5  Natural Chip        Compny SeaSalt175g   \n",
       "1          1       2        58   Red Rock Deli Chikn&Garlic Aioli 150g   \n",
       "2          1       3        52   Grain Waves Sour    Cream&Chives 210G   \n",
       "3          1       4       106  Natural ChipCo      Hony Soy Chckn175g   \n",
       "4          1       5        96          WW Original Stacked Chips 160g   \n",
       "\n",
       "   PROD_QTY  TOT_SALES  \n",
       "0         2        6.0  \n",
       "1         1        2.7  \n",
       "2         1        3.6  \n",
       "3         1        3.0  \n",
       "4         1        1.9  "
      ]
     },
     "execution_count": 29,
     "metadata": {},
     "output_type": "execute_result"
    }
   ],
   "source": [
    "merged_df.head()"
   ]
  },
  {
   "cell_type": "code",
   "execution_count": 30,
   "id": "21bf4881",
   "metadata": {},
   "outputs": [
    {
     "data": {
      "text/html": [
       "<div>\n",
       "<style scoped>\n",
       "    .dataframe tbody tr th:only-of-type {\n",
       "        vertical-align: middle;\n",
       "    }\n",
       "\n",
       "    .dataframe tbody tr th {\n",
       "        vertical-align: top;\n",
       "    }\n",
       "\n",
       "    .dataframe thead th {\n",
       "        text-align: right;\n",
       "    }\n",
       "</style>\n",
       "<table border=\"1\" class=\"dataframe\">\n",
       "  <thead>\n",
       "    <tr style=\"text-align: right;\">\n",
       "      <th></th>\n",
       "      <th>LYLTY_CARD_NBR</th>\n",
       "      <th>DATE</th>\n",
       "      <th>STORE_NBR</th>\n",
       "      <th>TXN_ID</th>\n",
       "      <th>PROD_NBR</th>\n",
       "      <th>PROD_QTY</th>\n",
       "      <th>TOT_SALES</th>\n",
       "    </tr>\n",
       "  </thead>\n",
       "  <tbody>\n",
       "    <tr>\n",
       "      <th>count</th>\n",
       "      <td>2.467420e+05</td>\n",
       "      <td>246742</td>\n",
       "      <td>246742.000000</td>\n",
       "      <td>2.467420e+05</td>\n",
       "      <td>246742.000000</td>\n",
       "      <td>246742.000000</td>\n",
       "      <td>246742.000000</td>\n",
       "    </tr>\n",
       "    <tr>\n",
       "      <th>mean</th>\n",
       "      <td>1.355310e+05</td>\n",
       "      <td>2018-12-30 01:19:01.211468288</td>\n",
       "      <td>135.051098</td>\n",
       "      <td>1.351311e+05</td>\n",
       "      <td>56.351789</td>\n",
       "      <td>1.908062</td>\n",
       "      <td>7.321322</td>\n",
       "    </tr>\n",
       "    <tr>\n",
       "      <th>min</th>\n",
       "      <td>1.000000e+03</td>\n",
       "      <td>2018-07-01 00:00:00</td>\n",
       "      <td>1.000000</td>\n",
       "      <td>1.000000e+00</td>\n",
       "      <td>1.000000</td>\n",
       "      <td>1.000000</td>\n",
       "      <td>1.700000</td>\n",
       "    </tr>\n",
       "    <tr>\n",
       "      <th>25%</th>\n",
       "      <td>7.001500e+04</td>\n",
       "      <td>2018-09-30 00:00:00</td>\n",
       "      <td>70.000000</td>\n",
       "      <td>6.756925e+04</td>\n",
       "      <td>26.000000</td>\n",
       "      <td>2.000000</td>\n",
       "      <td>5.800000</td>\n",
       "    </tr>\n",
       "    <tr>\n",
       "      <th>50%</th>\n",
       "      <td>1.303670e+05</td>\n",
       "      <td>2018-12-30 00:00:00</td>\n",
       "      <td>130.000000</td>\n",
       "      <td>1.351830e+05</td>\n",
       "      <td>53.000000</td>\n",
       "      <td>2.000000</td>\n",
       "      <td>7.400000</td>\n",
       "    </tr>\n",
       "    <tr>\n",
       "      <th>75%</th>\n",
       "      <td>2.030840e+05</td>\n",
       "      <td>2019-03-31 00:00:00</td>\n",
       "      <td>203.000000</td>\n",
       "      <td>2.026538e+05</td>\n",
       "      <td>87.000000</td>\n",
       "      <td>2.000000</td>\n",
       "      <td>8.800000</td>\n",
       "    </tr>\n",
       "    <tr>\n",
       "      <th>max</th>\n",
       "      <td>2.373711e+06</td>\n",
       "      <td>2019-06-30 00:00:00</td>\n",
       "      <td>272.000000</td>\n",
       "      <td>2.415841e+06</td>\n",
       "      <td>114.000000</td>\n",
       "      <td>200.000000</td>\n",
       "      <td>650.000000</td>\n",
       "    </tr>\n",
       "    <tr>\n",
       "      <th>std</th>\n",
       "      <td>8.071528e+04</td>\n",
       "      <td>NaN</td>\n",
       "      <td>76.787096</td>\n",
       "      <td>7.814772e+04</td>\n",
       "      <td>33.695428</td>\n",
       "      <td>0.659831</td>\n",
       "      <td>3.077828</td>\n",
       "    </tr>\n",
       "  </tbody>\n",
       "</table>\n",
       "</div>"
      ],
      "text/plain": [
       "       LYLTY_CARD_NBR                           DATE      STORE_NBR  \\\n",
       "count    2.467420e+05                         246742  246742.000000   \n",
       "mean     1.355310e+05  2018-12-30 01:19:01.211468288     135.051098   \n",
       "min      1.000000e+03            2018-07-01 00:00:00       1.000000   \n",
       "25%      7.001500e+04            2018-09-30 00:00:00      70.000000   \n",
       "50%      1.303670e+05            2018-12-30 00:00:00     130.000000   \n",
       "75%      2.030840e+05            2019-03-31 00:00:00     203.000000   \n",
       "max      2.373711e+06            2019-06-30 00:00:00     272.000000   \n",
       "std      8.071528e+04                            NaN      76.787096   \n",
       "\n",
       "             TXN_ID       PROD_NBR       PROD_QTY      TOT_SALES  \n",
       "count  2.467420e+05  246742.000000  246742.000000  246742.000000  \n",
       "mean   1.351311e+05      56.351789       1.908062       7.321322  \n",
       "min    1.000000e+00       1.000000       1.000000       1.700000  \n",
       "25%    6.756925e+04      26.000000       2.000000       5.800000  \n",
       "50%    1.351830e+05      53.000000       2.000000       7.400000  \n",
       "75%    2.026538e+05      87.000000       2.000000       8.800000  \n",
       "max    2.415841e+06     114.000000     200.000000     650.000000  \n",
       "std    7.814772e+04      33.695428       0.659831       3.077828  "
      ]
     },
     "execution_count": 30,
     "metadata": {},
     "output_type": "execute_result"
    }
   ],
   "source": [
    "merged_df.describe()"
   ]
  },
  {
   "cell_type": "raw",
   "id": "ae753ce4",
   "metadata": {},
   "source": [
    "There is an outlier in product quantity"
   ]
  },
  {
   "cell_type": "code",
   "execution_count": 31,
   "id": "74fd2f80",
   "metadata": {},
   "outputs": [
    {
     "data": {
      "text/plain": [
       "1"
      ]
     },
     "execution_count": 31,
     "metadata": {},
     "output_type": "execute_result"
    }
   ],
   "source": [
    "merged_df.duplicated().sum()"
   ]
  },
  {
   "cell_type": "code",
   "execution_count": 32,
   "id": "0be568f7",
   "metadata": {},
   "outputs": [],
   "source": [
    "# Check for duplicate rows\n",
    "duplicate_rows = merged_df[merged_df.duplicated()]\n",
    "duplicate_rows.drop_duplicates(inplace=True)"
   ]
  },
  {
   "cell_type": "code",
   "execution_count": 33,
   "id": "293915d8",
   "metadata": {},
   "outputs": [
    {
     "data": {
      "image/png": "[encoded data removed]",
      "text/plain": [
       "<Figure size 800x600 with 1 Axes>"
      ]
     },
     "metadata": {},
     "output_type": "display_data"
    }
   ],
   "source": [
    "# Extracting the TOT_SALES column\n",
    "df = merged_df['TOT_SALES']\n",
    "\n",
    "plt.figure(figsize=(8, 6))\n",
    "plt.boxplot(df, vert=False)\n",
    "plt.title('Box plot of Total Sales')\n",
    "plt.xlabel('Total Sales')\n",
    "plt.show()\n"
   ]
  },
  {
   "cell_type": "raw",
   "id": "d6a14f2d",
   "metadata": {},
   "source": [
    "There is an outlier "
   ]
  },
  {
   "cell_type": "code",
   "execution_count": 34,
   "id": "1f6a40b7",
   "metadata": {},
   "outputs": [
    {
     "data": {
      "text/html": [
       "<div>\n",
       "<style scoped>\n",
       "    .dataframe tbody tr th:only-of-type {\n",
       "        vertical-align: middle;\n",
       "    }\n",
       "\n",
       "    .dataframe tbody tr th {\n",
       "        vertical-align: top;\n",
       "    }\n",
       "\n",
       "    .dataframe thead th {\n",
       "        text-align: right;\n",
       "    }\n",
       "</style>\n",
       "<table border=\"1\" class=\"dataframe\">\n",
       "  <thead>\n",
       "    <tr style=\"text-align: right;\">\n",
       "      <th></th>\n",
       "      <th>LYLTY_CARD_NBR</th>\n",
       "      <th>LIFESTAGE</th>\n",
       "      <th>PREMIUM_CUSTOMER</th>\n",
       "      <th>DATE</th>\n",
       "      <th>STORE_NBR</th>\n",
       "      <th>TXN_ID</th>\n",
       "      <th>PROD_NBR</th>\n",
       "      <th>PROD_NAME</th>\n",
       "      <th>PROD_QTY</th>\n",
       "      <th>TOT_SALES</th>\n",
       "    </tr>\n",
       "  </thead>\n",
       "  <tbody>\n",
       "    <tr>\n",
       "      <th>221625</th>\n",
       "      <td>226000</td>\n",
       "      <td>OLDER FAMILIES</td>\n",
       "      <td>Premium</td>\n",
       "      <td>2018-08-19</td>\n",
       "      <td>226</td>\n",
       "      <td>226201</td>\n",
       "      <td>4</td>\n",
       "      <td>Dorito Corn Chp     Supreme 380g</td>\n",
       "      <td>200</td>\n",
       "      <td>650.0</td>\n",
       "    </tr>\n",
       "    <tr>\n",
       "      <th>221626</th>\n",
       "      <td>226000</td>\n",
       "      <td>OLDER FAMILIES</td>\n",
       "      <td>Premium</td>\n",
       "      <td>2019-05-20</td>\n",
       "      <td>226</td>\n",
       "      <td>226210</td>\n",
       "      <td>4</td>\n",
       "      <td>Dorito Corn Chp     Supreme 380g</td>\n",
       "      <td>200</td>\n",
       "      <td>650.0</td>\n",
       "    </tr>\n",
       "  </tbody>\n",
       "</table>\n",
       "</div>"
      ],
      "text/plain": [
       "        LYLTY_CARD_NBR       LIFESTAGE PREMIUM_CUSTOMER       DATE  STORE_NBR  \\\n",
       "221625          226000  OLDER FAMILIES          Premium 2018-08-19        226   \n",
       "221626          226000  OLDER FAMILIES          Premium 2019-05-20        226   \n",
       "\n",
       "        TXN_ID  PROD_NBR                         PROD_NAME  PROD_QTY  \\\n",
       "221625  226201         4  Dorito Corn Chp     Supreme 380g       200   \n",
       "221626  226210         4  Dorito Corn Chp     Supreme 380g       200   \n",
       "\n",
       "        TOT_SALES  \n",
       "221625      650.0  \n",
       "221626      650.0  "
      ]
     },
     "execution_count": 34,
     "metadata": {},
     "output_type": "execute_result"
    }
   ],
   "source": [
    "#Checking for rows with highest sales which happens to be the outlier\n",
    "outlier_row=merged_df[merged_df['TOT_SALES']==merged_df['TOT_SALES'].max()]\n",
    "outlier_row"
   ]
  },
  {
   "cell_type": "code",
   "execution_count": 35,
   "id": "f8dbfd06",
   "metadata": {},
   "outputs": [],
   "source": [
    "#Lets drop this rows\n",
    "# Get the index of the row(s) with the highest total sales\n",
    "outlier_index = outlier_row.index\n",
    "\n",
    "# Drop the row with the highest total sales/outlier\n",
    "df_clean = merged_df.drop(outlier_index)\n"
   ]
  },
  {
   "cell_type": "code",
   "execution_count": 36,
   "id": "45114035",
   "metadata": {},
   "outputs": [
    {
     "data": {
      "text/html": [
       "<div>\n",
       "<style scoped>\n",
       "    .dataframe tbody tr th:only-of-type {\n",
       "        vertical-align: middle;\n",
       "    }\n",
       "\n",
       "    .dataframe tbody tr th {\n",
       "        vertical-align: top;\n",
       "    }\n",
       "\n",
       "    .dataframe thead th {\n",
       "        text-align: right;\n",
       "    }\n",
       "</style>\n",
       "<table border=\"1\" class=\"dataframe\">\n",
       "  <thead>\n",
       "    <tr style=\"text-align: right;\">\n",
       "      <th></th>\n",
       "      <th>LYLTY_CARD_NBR</th>\n",
       "      <th>DATE</th>\n",
       "      <th>STORE_NBR</th>\n",
       "      <th>TXN_ID</th>\n",
       "      <th>PROD_NBR</th>\n",
       "      <th>PROD_QTY</th>\n",
       "      <th>TOT_SALES</th>\n",
       "    </tr>\n",
       "  </thead>\n",
       "  <tbody>\n",
       "    <tr>\n",
       "      <th>count</th>\n",
       "      <td>2.467400e+05</td>\n",
       "      <td>246740</td>\n",
       "      <td>246740.000000</td>\n",
       "      <td>2.467400e+05</td>\n",
       "      <td>246740.000000</td>\n",
       "      <td>246740.000000</td>\n",
       "      <td>246740.000000</td>\n",
       "    </tr>\n",
       "    <tr>\n",
       "      <th>mean</th>\n",
       "      <td>1.355303e+05</td>\n",
       "      <td>2018-12-30 01:18:58.448569344</td>\n",
       "      <td>135.050361</td>\n",
       "      <td>1.351304e+05</td>\n",
       "      <td>56.352213</td>\n",
       "      <td>1.906456</td>\n",
       "      <td>7.316113</td>\n",
       "    </tr>\n",
       "    <tr>\n",
       "      <th>min</th>\n",
       "      <td>1.000000e+03</td>\n",
       "      <td>2018-07-01 00:00:00</td>\n",
       "      <td>1.000000</td>\n",
       "      <td>1.000000e+00</td>\n",
       "      <td>1.000000</td>\n",
       "      <td>1.000000</td>\n",
       "      <td>1.700000</td>\n",
       "    </tr>\n",
       "    <tr>\n",
       "      <th>25%</th>\n",
       "      <td>7.001500e+04</td>\n",
       "      <td>2018-09-30 00:00:00</td>\n",
       "      <td>70.000000</td>\n",
       "      <td>6.756875e+04</td>\n",
       "      <td>26.000000</td>\n",
       "      <td>2.000000</td>\n",
       "      <td>5.800000</td>\n",
       "    </tr>\n",
       "    <tr>\n",
       "      <th>50%</th>\n",
       "      <td>1.303670e+05</td>\n",
       "      <td>2018-12-30 00:00:00</td>\n",
       "      <td>130.000000</td>\n",
       "      <td>1.351815e+05</td>\n",
       "      <td>53.000000</td>\n",
       "      <td>2.000000</td>\n",
       "      <td>7.400000</td>\n",
       "    </tr>\n",
       "    <tr>\n",
       "      <th>75%</th>\n",
       "      <td>2.030832e+05</td>\n",
       "      <td>2019-03-31 00:00:00</td>\n",
       "      <td>203.000000</td>\n",
       "      <td>2.026522e+05</td>\n",
       "      <td>87.000000</td>\n",
       "      <td>2.000000</td>\n",
       "      <td>8.800000</td>\n",
       "    </tr>\n",
       "    <tr>\n",
       "      <th>max</th>\n",
       "      <td>2.373711e+06</td>\n",
       "      <td>2019-06-30 00:00:00</td>\n",
       "      <td>272.000000</td>\n",
       "      <td>2.415841e+06</td>\n",
       "      <td>114.000000</td>\n",
       "      <td>5.000000</td>\n",
       "      <td>29.500000</td>\n",
       "    </tr>\n",
       "    <tr>\n",
       "      <th>std</th>\n",
       "      <td>8.071520e+04</td>\n",
       "      <td>NaN</td>\n",
       "      <td>76.786971</td>\n",
       "      <td>7.814760e+04</td>\n",
       "      <td>33.695235</td>\n",
       "      <td>0.342499</td>\n",
       "      <td>2.474897</td>\n",
       "    </tr>\n",
       "  </tbody>\n",
       "</table>\n",
       "</div>"
      ],
      "text/plain": [
       "       LYLTY_CARD_NBR                           DATE      STORE_NBR  \\\n",
       "count    2.467400e+05                         246740  246740.000000   \n",
       "mean     1.355303e+05  2018-12-30 01:18:58.448569344     135.050361   \n",
       "min      1.000000e+03            2018-07-01 00:00:00       1.000000   \n",
       "25%      7.001500e+04            2018-09-30 00:00:00      70.000000   \n",
       "50%      1.303670e+05            2018-12-30 00:00:00     130.000000   \n",
       "75%      2.030832e+05            2019-03-31 00:00:00     203.000000   \n",
       "max      2.373711e+06            2019-06-30 00:00:00     272.000000   \n",
       "std      8.071520e+04                            NaN      76.786971   \n",
       "\n",
       "             TXN_ID       PROD_NBR       PROD_QTY      TOT_SALES  \n",
       "count  2.467400e+05  246740.000000  246740.000000  246740.000000  \n",
       "mean   1.351304e+05      56.352213       1.906456       7.316113  \n",
       "min    1.000000e+00       1.000000       1.000000       1.700000  \n",
       "25%    6.756875e+04      26.000000       2.000000       5.800000  \n",
       "50%    1.351815e+05      53.000000       2.000000       7.400000  \n",
       "75%    2.026522e+05      87.000000       2.000000       8.800000  \n",
       "max    2.415841e+06     114.000000       5.000000      29.500000  \n",
       "std    7.814760e+04      33.695235       0.342499       2.474897  "
      ]
     },
     "execution_count": 36,
     "metadata": {},
     "output_type": "execute_result"
    }
   ],
   "source": [
    "df_clean.describe()\n"
   ]
  },
  {
   "cell_type": "code",
   "execution_count": 37,
   "id": "466b4cc1",
   "metadata": {},
   "outputs": [
    {
     "data": {
      "text/html": [
       "<div>\n",
       "<style scoped>\n",
       "    .dataframe tbody tr th:only-of-type {\n",
       "        vertical-align: middle;\n",
       "    }\n",
       "\n",
       "    .dataframe tbody tr th {\n",
       "        vertical-align: top;\n",
       "    }\n",
       "\n",
       "    .dataframe thead th {\n",
       "        text-align: right;\n",
       "    }\n",
       "</style>\n",
       "<table border=\"1\" class=\"dataframe\">\n",
       "  <thead>\n",
       "    <tr style=\"text-align: right;\">\n",
       "      <th></th>\n",
       "      <th>LYLTY_CARD_NBR</th>\n",
       "      <th>LIFESTAGE</th>\n",
       "      <th>PREMIUM_CUSTOMER</th>\n",
       "      <th>DATE</th>\n",
       "      <th>STORE_NBR</th>\n",
       "      <th>TXN_ID</th>\n",
       "      <th>PROD_NBR</th>\n",
       "      <th>PROD_NAME</th>\n",
       "      <th>PROD_QTY</th>\n",
       "      <th>TOT_SALES</th>\n",
       "    </tr>\n",
       "  </thead>\n",
       "  <tbody>\n",
       "    <tr>\n",
       "      <th>67</th>\n",
       "      <td>1062</td>\n",
       "      <td>YOUNG FAMILIES</td>\n",
       "      <td>Premium</td>\n",
       "      <td>2018-11-23</td>\n",
       "      <td>1</td>\n",
       "      <td>71</td>\n",
       "      <td>92</td>\n",
       "      <td>WW Crinkle Cut      Chicken 175g</td>\n",
       "      <td>1</td>\n",
       "      <td>1.7</td>\n",
       "    </tr>\n",
       "    <tr>\n",
       "      <th>74</th>\n",
       "      <td>1067</td>\n",
       "      <td>OLDER SINGLES/COUPLES</td>\n",
       "      <td>Mainstream</td>\n",
       "      <td>2018-10-27</td>\n",
       "      <td>1</td>\n",
       "      <td>78</td>\n",
       "      <td>95</td>\n",
       "      <td>Sunbites Whlegrn    Crisps Frch/Onin 90g</td>\n",
       "      <td>1</td>\n",
       "      <td>1.7</td>\n",
       "    </tr>\n",
       "    <tr>\n",
       "      <th>76</th>\n",
       "      <td>1068</td>\n",
       "      <td>YOUNG SINGLES/COUPLES</td>\n",
       "      <td>Premium</td>\n",
       "      <td>2019-01-10</td>\n",
       "      <td>1</td>\n",
       "      <td>80</td>\n",
       "      <td>95</td>\n",
       "      <td>Sunbites Whlegrn    Crisps Frch/Onin 90g</td>\n",
       "      <td>1</td>\n",
       "      <td>1.7</td>\n",
       "    </tr>\n",
       "    <tr>\n",
       "      <th>80</th>\n",
       "      <td>1072</td>\n",
       "      <td>NEW FAMILIES</td>\n",
       "      <td>Premium</td>\n",
       "      <td>2019-04-04</td>\n",
       "      <td>1</td>\n",
       "      <td>85</td>\n",
       "      <td>95</td>\n",
       "      <td>Sunbites Whlegrn    Crisps Frch/Onin 90g</td>\n",
       "      <td>1</td>\n",
       "      <td>1.7</td>\n",
       "    </tr>\n",
       "    <tr>\n",
       "      <th>107</th>\n",
       "      <td>1097</td>\n",
       "      <td>RETIREES</td>\n",
       "      <td>Budget</td>\n",
       "      <td>2019-05-05</td>\n",
       "      <td>1</td>\n",
       "      <td>113</td>\n",
       "      <td>55</td>\n",
       "      <td>Snbts Whlgrn Crisps Cheddr&amp;Mstrd 90g</td>\n",
       "      <td>1</td>\n",
       "      <td>1.7</td>\n",
       "    </tr>\n",
       "    <tr>\n",
       "      <th>...</th>\n",
       "      <td>...</td>\n",
       "      <td>...</td>\n",
       "      <td>...</td>\n",
       "      <td>...</td>\n",
       "      <td>...</td>\n",
       "      <td>...</td>\n",
       "      <td>...</td>\n",
       "      <td>...</td>\n",
       "      <td>...</td>\n",
       "      <td>...</td>\n",
       "    </tr>\n",
       "    <tr>\n",
       "      <th>259592</th>\n",
       "      <td>268484</td>\n",
       "      <td>YOUNG FAMILIES</td>\n",
       "      <td>Premium</td>\n",
       "      <td>2018-09-26</td>\n",
       "      <td>268</td>\n",
       "      <td>264936</td>\n",
       "      <td>55</td>\n",
       "      <td>Snbts Whlgrn Crisps Cheddr&amp;Mstrd 90g</td>\n",
       "      <td>1</td>\n",
       "      <td>1.7</td>\n",
       "    </tr>\n",
       "    <tr>\n",
       "      <th>260056</th>\n",
       "      <td>269069</td>\n",
       "      <td>OLDER SINGLES/COUPLES</td>\n",
       "      <td>Mainstream</td>\n",
       "      <td>2018-08-17</td>\n",
       "      <td>269</td>\n",
       "      <td>265407</td>\n",
       "      <td>55</td>\n",
       "      <td>Snbts Whlgrn Crisps Cheddr&amp;Mstrd 90g</td>\n",
       "      <td>1</td>\n",
       "      <td>1.7</td>\n",
       "    </tr>\n",
       "    <tr>\n",
       "      <th>260969</th>\n",
       "      <td>269214</td>\n",
       "      <td>OLDER FAMILIES</td>\n",
       "      <td>Budget</td>\n",
       "      <td>2019-05-19</td>\n",
       "      <td>269</td>\n",
       "      <td>266340</td>\n",
       "      <td>95</td>\n",
       "      <td>Sunbites Whlegrn    Crisps Frch/Onin 90g</td>\n",
       "      <td>1</td>\n",
       "      <td>1.7</td>\n",
       "    </tr>\n",
       "    <tr>\n",
       "      <th>262665</th>\n",
       "      <td>270213</td>\n",
       "      <td>RETIREES</td>\n",
       "      <td>Premium</td>\n",
       "      <td>2019-05-15</td>\n",
       "      <td>270</td>\n",
       "      <td>268046</td>\n",
       "      <td>72</td>\n",
       "      <td>WW Crinkle Cut      Original 175g</td>\n",
       "      <td>1</td>\n",
       "      <td>1.7</td>\n",
       "    </tr>\n",
       "    <tr>\n",
       "      <th>263058</th>\n",
       "      <td>271040</td>\n",
       "      <td>OLDER FAMILIES</td>\n",
       "      <td>Mainstream</td>\n",
       "      <td>2019-05-14</td>\n",
       "      <td>271</td>\n",
       "      <td>268445</td>\n",
       "      <td>92</td>\n",
       "      <td>WW Crinkle Cut      Chicken 175g</td>\n",
       "      <td>1</td>\n",
       "      <td>1.7</td>\n",
       "    </tr>\n",
       "  </tbody>\n",
       "</table>\n",
       "<p>708 rows × 10 columns</p>\n",
       "</div>"
      ],
      "text/plain": [
       "        LYLTY_CARD_NBR              LIFESTAGE PREMIUM_CUSTOMER       DATE  \\\n",
       "67                1062         YOUNG FAMILIES          Premium 2018-11-23   \n",
       "74                1067  OLDER SINGLES/COUPLES       Mainstream 2018-10-27   \n",
       "76                1068  YOUNG SINGLES/COUPLES          Premium 2019-01-10   \n",
       "80                1072           NEW FAMILIES          Premium 2019-04-04   \n",
       "107               1097               RETIREES           Budget 2019-05-05   \n",
       "...                ...                    ...              ...        ...   \n",
       "259592          268484         YOUNG FAMILIES          Premium 2018-09-26   \n",
       "260056          269069  OLDER SINGLES/COUPLES       Mainstream 2018-08-17   \n",
       "260969          269214         OLDER FAMILIES           Budget 2019-05-19   \n",
       "262665          270213               RETIREES          Premium 2019-05-15   \n",
       "263058          271040         OLDER FAMILIES       Mainstream 2019-05-14   \n",
       "\n",
       "        STORE_NBR  TXN_ID  PROD_NBR                                 PROD_NAME  \\\n",
       "67              1      71        92          WW Crinkle Cut      Chicken 175g   \n",
       "74              1      78        95  Sunbites Whlegrn    Crisps Frch/Onin 90g   \n",
       "76              1      80        95  Sunbites Whlegrn    Crisps Frch/Onin 90g   \n",
       "80              1      85        95  Sunbites Whlegrn    Crisps Frch/Onin 90g   \n",
       "107             1     113        55      Snbts Whlgrn Crisps Cheddr&Mstrd 90g   \n",
       "...           ...     ...       ...                                       ...   \n",
       "259592        268  264936        55      Snbts Whlgrn Crisps Cheddr&Mstrd 90g   \n",
       "260056        269  265407        55      Snbts Whlgrn Crisps Cheddr&Mstrd 90g   \n",
       "260969        269  266340        95  Sunbites Whlegrn    Crisps Frch/Onin 90g   \n",
       "262665        270  268046        72         WW Crinkle Cut      Original 175g   \n",
       "263058        271  268445        92          WW Crinkle Cut      Chicken 175g   \n",
       "\n",
       "        PROD_QTY  TOT_SALES  \n",
       "67             1        1.7  \n",
       "74             1        1.7  \n",
       "76             1        1.7  \n",
       "80             1        1.7  \n",
       "107            1        1.7  \n",
       "...          ...        ...  \n",
       "259592         1        1.7  \n",
       "260056         1        1.7  \n",
       "260969         1        1.7  \n",
       "262665         1        1.7  \n",
       "263058         1        1.7  \n",
       "\n",
       "[708 rows x 10 columns]"
      ]
     },
     "execution_count": 37,
     "metadata": {},
     "output_type": "execute_result"
    }
   ],
   "source": [
    "#checking for rows with lowest sales\n",
    "df_clean[df_clean['TOT_SALES']==df_clean['TOT_SALES'].min()]"
   ]
  },
  {
   "cell_type": "code",
   "execution_count": 38,
   "id": "47ebda82",
   "metadata": {},
   "outputs": [
    {
     "data": {
      "text/plain": [
       "Large Sales\n",
       "True     137991\n",
       "False    108749\n",
       "Name: count, dtype: int64"
      ]
     },
     "execution_count": 38,
     "metadata": {},
     "output_type": "execute_result"
    }
   ],
   "source": [
    "#Clasffying large sales based on the mean of total sales\n",
    "df_clean['Large Sales'] = df_clean['TOT_SALES']>df_clean['TOT_SALES'].mean()\n",
    "df_clean['Large Quantity'] =df_clean['PROD_QTY']>df_clean['PROD_QTY'].mean()\n",
    "\n",
    "df_clean['Large Sales'].value_counts()\n"
   ]
  },
  {
   "cell_type": "code",
   "execution_count": 39,
   "id": "f44bc1fd",
   "metadata": {},
   "outputs": [
    {
     "data": {
      "text/plain": [
       "<Axes: xlabel='PROD_QTY'>"
      ]
     },
     "execution_count": 39,
     "metadata": {},
     "output_type": "execute_result"
    },
    {
     "data": {
      "image/png": "[encoded data removed]",
      "text/plain": [
       "<Figure size 640x480 with 1 Axes>"
      ]
     },
     "metadata": {},
     "output_type": "display_data"
    }
   ],
   "source": [
    "#visualling product qunatity\n",
    "df_clean['PROD_QTY'].value_counts().plot.bar()"
   ]
  },
  {
   "cell_type": "code",
   "execution_count": 40,
   "id": "05c7b79f",
   "metadata": {},
   "outputs": [
    {
     "data": {
      "text/plain": [
       "PROD_QTY\n",
       "2    220070\n",
       "1     25476\n",
       "5       415\n",
       "3       408\n",
       "4       371\n",
       "Name: count, dtype: int64"
      ]
     },
     "execution_count": 40,
     "metadata": {},
     "output_type": "execute_result"
    }
   ],
   "source": [
    "df_clean['PROD_QTY'].value_counts()"
   ]
  },
  {
   "cell_type": "code",
   "execution_count": 41,
   "id": "00743b7f",
   "metadata": {},
   "outputs": [
    {
     "data": {
      "image/png": "[encoded data removed]",
      "text/plain": [
       "<Figure size 640x480 with 1 Axes>"
      ]
     },
     "metadata": {},
     "output_type": "display_data"
    }
   ],
   "source": [
    "#Visually checking for skewdeness in data\n",
    "sns.boxplot(data=df_clean)\n",
    "plt.show()"
   ]
  },
  {
   "cell_type": "code",
   "execution_count": 42,
   "id": "7c520086",
   "metadata": {},
   "outputs": [
    {
     "name": "stdout",
     "output_type": "stream",
     "text": [
      "Number of transactions by date (in descending order):\n",
      "DATE\n",
      "2018-12-24    865\n",
      "2018-12-23    853\n",
      "2018-12-22    840\n",
      "2018-12-19    839\n",
      "2018-12-20    808\n",
      "             ... \n",
      "2019-06-24    612\n",
      "2018-10-18    611\n",
      "2018-11-25    610\n",
      "2018-09-22    609\n",
      "2019-06-13    607\n",
      "Length: 364, dtype: int64\n"
     ]
    }
   ],
   "source": [
    "#Count number of transactions by date\n",
    "# Group the data by the 'DATE' column and count the number of transactions in each group\n",
    "transactions_by_date = df_clean.groupby('DATE').size()\n",
    "\n",
    "transactions_by_date_desc = transactions_by_date.sort_values(ascending=False)\n",
    "\n",
    "# Display the result\n",
    "print(\"Number of transactions by date (in descending order):\")\n",
    "print(transactions_by_date_desc)\n"
   ]
  },
  {
   "cell_type": "code",
   "execution_count": 43,
   "id": "673e3da5",
   "metadata": {},
   "outputs": [
    {
     "data": {
      "image/png": "[encoded data removed]",
      "text/plain": [
       "<Figure size 1000x600 with 1 Axes>"
      ]
     },
     "metadata": {},
     "output_type": "display_data"
    }
   ],
   "source": [
    "#ploting a time series\n",
    "plt.figure(figsize=(10, 6))\n",
    "transactions_by_date_desc.plot()\n",
    "plt.title('Number of Transactions Over Time')\n",
    "plt.xlabel('Date')\n",
    "plt.ylabel('Number of Transactions')\n",
    "plt.xticks(rotation=45)\n",
    "plt.grid(True)\n",
    "plt.tight_layout()\n",
    "plt.show()"
   ]
  },
  {
   "cell_type": "markdown",
   "id": "a44995da",
   "metadata": {},
   "source": [
    "I can see that there is an increase in purchases in December and a break in late December. Let’s zoom in\n",
    "on this.\n"
   ]
  },
  {
   "cell_type": "code",
   "execution_count": 44,
   "id": "8f085cf2",
   "metadata": {},
   "outputs": [
    {
     "data": {
      "image/png": "[encoded data removed]",
      "text/plain": [
       "<Figure size 1000x600 with 1 Axes>"
      ]
     },
     "metadata": {},
     "output_type": "display_data"
    }
   ],
   "source": [
    " #Selecting the transactions for a particular month with high sales\n",
    "target_month = '2018-12'  # Change this to the month you're interested in\n",
    "transactions_in_target_month = transactions_by_date_desc[target_month]\n",
    "\n",
    "# Plot the time series of number of transactions for the selected month\n",
    "plt.figure(figsize=(10, 6))\n",
    "transactions_in_target_month.plot(marker='o', color='b')\n",
    "plt.title(f'Number of Transactions in {target_month} with High Sales')\n",
    "plt.xlabel('Date')\n",
    "plt.ylabel('Number of Transactions')\n",
    "plt.xticks(rotation=45)\n",
    "plt.grid(True)\n",
    "plt.tight_layout()\n",
    "plt.show()"
   ]
  },
  {
   "cell_type": "markdown",
   "id": "dd90760c",
   "metadata": {},
   "source": [
    "I can see that the increase in sales occurs in the build-up to Christmas season and that there are no sales on\n",
    "Christmas day itself. This is due to shops being closed on Christmas day.\n",
    "Now that I am satisfied that the data no longer has outliers, I can now move on to creating other features\n",
    "such as brand of chips or pack size from PROD_NAME.I will start with pack size.\n"
   ]
  },
  {
   "cell_type": "code",
   "execution_count": 45,
   "id": "32b5519d",
   "metadata": {},
   "outputs": [
    {
     "name": "stdout",
     "output_type": "stream",
     "text": [
      "Pack sizes and their frequencies:\n",
      "PACK_SIZE\n",
      "70      1507\n",
      "90      3008\n",
      "110    22387\n",
      "125     1454\n",
      "134    25102\n",
      "135     3257\n",
      "150    40203\n",
      "160     2970\n",
      "165    15297\n",
      "170    19983\n",
      "175    66390\n",
      "180     1468\n",
      "190     2995\n",
      "200     4473\n",
      "210     6272\n",
      "220     1564\n",
      "250     3169\n",
      "270     6285\n",
      "330    12540\n",
      "380     6416\n",
      "Name: count, dtype: int64\n"
     ]
    }
   ],
   "source": [
    "# Extract pack sizes from the 'PROD_NAME' column using regular expressions\n",
    "df_clean['PACK_SIZE'] = df_clean['PROD_NAME'].str.extract(r'(\\d+)(?=[Gg]|\\s*[Gg])')\n",
    "\n",
    "\n",
    "df_clean['PACK_SIZE'] = pd.to_numeric(df_clean['PACK_SIZE'])\n",
    "\n",
    "# Check if the pack sizes look sensible\n",
    "pack_size_counts = df_clean['PACK_SIZE'].value_counts().sort_index()\n",
    "print(\"Pack sizes and their frequencies:\")\n",
    "print(pack_size_counts)"
   ]
  },
  {
   "cell_type": "markdown",
   "id": "055cbb12",
   "metadata": {},
   "source": [
    "The largest size is 380g and the smallest size is 70g - I think it is reasonable\n"
   ]
  },
  {
   "cell_type": "code",
   "execution_count": 46,
   "id": "1e11ecca",
   "metadata": {},
   "outputs": [
    {
     "data": {
      "text/html": [
       "<div>\n",
       "<style scoped>\n",
       "    .dataframe tbody tr th:only-of-type {\n",
       "        vertical-align: middle;\n",
       "    }\n",
       "\n",
       "    .dataframe tbody tr th {\n",
       "        vertical-align: top;\n",
       "    }\n",
       "\n",
       "    .dataframe thead th {\n",
       "        text-align: right;\n",
       "    }\n",
       "</style>\n",
       "<table border=\"1\" class=\"dataframe\">\n",
       "  <thead>\n",
       "    <tr style=\"text-align: right;\">\n",
       "      <th></th>\n",
       "      <th>LYLTY_CARD_NBR</th>\n",
       "      <th>LIFESTAGE</th>\n",
       "      <th>PREMIUM_CUSTOMER</th>\n",
       "      <th>DATE</th>\n",
       "      <th>STORE_NBR</th>\n",
       "      <th>TXN_ID</th>\n",
       "      <th>PROD_NBR</th>\n",
       "      <th>PROD_NAME</th>\n",
       "      <th>PROD_QTY</th>\n",
       "      <th>TOT_SALES</th>\n",
       "      <th>Large Sales</th>\n",
       "      <th>Large Quantity</th>\n",
       "      <th>PACK_SIZE</th>\n",
       "    </tr>\n",
       "  </thead>\n",
       "  <tbody>\n",
       "    <tr>\n",
       "      <th>0</th>\n",
       "      <td>1000</td>\n",
       "      <td>YOUNG SINGLES/COUPLES</td>\n",
       "      <td>Premium</td>\n",
       "      <td>2018-10-17</td>\n",
       "      <td>1</td>\n",
       "      <td>1</td>\n",
       "      <td>5</td>\n",
       "      <td>Natural Chip        Compny SeaSalt175g</td>\n",
       "      <td>2</td>\n",
       "      <td>6.0</td>\n",
       "      <td>False</td>\n",
       "      <td>True</td>\n",
       "      <td>175</td>\n",
       "    </tr>\n",
       "    <tr>\n",
       "      <th>1</th>\n",
       "      <td>1002</td>\n",
       "      <td>YOUNG SINGLES/COUPLES</td>\n",
       "      <td>Mainstream</td>\n",
       "      <td>2018-09-16</td>\n",
       "      <td>1</td>\n",
       "      <td>2</td>\n",
       "      <td>58</td>\n",
       "      <td>Red Rock Deli Chikn&amp;Garlic Aioli 150g</td>\n",
       "      <td>1</td>\n",
       "      <td>2.7</td>\n",
       "      <td>False</td>\n",
       "      <td>False</td>\n",
       "      <td>150</td>\n",
       "    </tr>\n",
       "    <tr>\n",
       "      <th>2</th>\n",
       "      <td>1003</td>\n",
       "      <td>YOUNG FAMILIES</td>\n",
       "      <td>Budget</td>\n",
       "      <td>2019-03-07</td>\n",
       "      <td>1</td>\n",
       "      <td>3</td>\n",
       "      <td>52</td>\n",
       "      <td>Grain Waves Sour    Cream&amp;Chives 210G</td>\n",
       "      <td>1</td>\n",
       "      <td>3.6</td>\n",
       "      <td>False</td>\n",
       "      <td>False</td>\n",
       "      <td>210</td>\n",
       "    </tr>\n",
       "    <tr>\n",
       "      <th>3</th>\n",
       "      <td>1003</td>\n",
       "      <td>YOUNG FAMILIES</td>\n",
       "      <td>Budget</td>\n",
       "      <td>2019-03-08</td>\n",
       "      <td>1</td>\n",
       "      <td>4</td>\n",
       "      <td>106</td>\n",
       "      <td>Natural ChipCo      Hony Soy Chckn175g</td>\n",
       "      <td>1</td>\n",
       "      <td>3.0</td>\n",
       "      <td>False</td>\n",
       "      <td>False</td>\n",
       "      <td>175</td>\n",
       "    </tr>\n",
       "    <tr>\n",
       "      <th>4</th>\n",
       "      <td>1004</td>\n",
       "      <td>OLDER SINGLES/COUPLES</td>\n",
       "      <td>Mainstream</td>\n",
       "      <td>2018-11-02</td>\n",
       "      <td>1</td>\n",
       "      <td>5</td>\n",
       "      <td>96</td>\n",
       "      <td>WW Original Stacked Chips 160g</td>\n",
       "      <td>1</td>\n",
       "      <td>1.9</td>\n",
       "      <td>False</td>\n",
       "      <td>False</td>\n",
       "      <td>160</td>\n",
       "    </tr>\n",
       "    <tr>\n",
       "      <th>...</th>\n",
       "      <td>...</td>\n",
       "      <td>...</td>\n",
       "      <td>...</td>\n",
       "      <td>...</td>\n",
       "      <td>...</td>\n",
       "      <td>...</td>\n",
       "      <td>...</td>\n",
       "      <td>...</td>\n",
       "      <td>...</td>\n",
       "      <td>...</td>\n",
       "      <td>...</td>\n",
       "      <td>...</td>\n",
       "      <td>...</td>\n",
       "    </tr>\n",
       "    <tr>\n",
       "      <th>264830</th>\n",
       "      <td>2370651</td>\n",
       "      <td>MIDAGE SINGLES/COUPLES</td>\n",
       "      <td>Mainstream</td>\n",
       "      <td>2018-08-03</td>\n",
       "      <td>88</td>\n",
       "      <td>240350</td>\n",
       "      <td>4</td>\n",
       "      <td>Dorito Corn Chp     Supreme 380g</td>\n",
       "      <td>2</td>\n",
       "      <td>13.0</td>\n",
       "      <td>True</td>\n",
       "      <td>True</td>\n",
       "      <td>380</td>\n",
       "    </tr>\n",
       "    <tr>\n",
       "      <th>264831</th>\n",
       "      <td>2370701</td>\n",
       "      <td>YOUNG FAMILIES</td>\n",
       "      <td>Mainstream</td>\n",
       "      <td>2018-12-08</td>\n",
       "      <td>88</td>\n",
       "      <td>240378</td>\n",
       "      <td>24</td>\n",
       "      <td>Grain Waves         Sweet Chilli 210g</td>\n",
       "      <td>2</td>\n",
       "      <td>7.2</td>\n",
       "      <td>False</td>\n",
       "      <td>True</td>\n",
       "      <td>210</td>\n",
       "    </tr>\n",
       "    <tr>\n",
       "      <th>264832</th>\n",
       "      <td>2370751</td>\n",
       "      <td>YOUNG FAMILIES</td>\n",
       "      <td>Premium</td>\n",
       "      <td>2018-10-01</td>\n",
       "      <td>88</td>\n",
       "      <td>240394</td>\n",
       "      <td>60</td>\n",
       "      <td>Kettle Tortilla ChpsFeta&amp;Garlic 150g</td>\n",
       "      <td>2</td>\n",
       "      <td>9.2</td>\n",
       "      <td>True</td>\n",
       "      <td>True</td>\n",
       "      <td>150</td>\n",
       "    </tr>\n",
       "    <tr>\n",
       "      <th>264833</th>\n",
       "      <td>2370961</td>\n",
       "      <td>OLDER FAMILIES</td>\n",
       "      <td>Budget</td>\n",
       "      <td>2018-10-24</td>\n",
       "      <td>88</td>\n",
       "      <td>240480</td>\n",
       "      <td>70</td>\n",
       "      <td>Tyrrells Crisps     Lightly Salted 165g</td>\n",
       "      <td>2</td>\n",
       "      <td>8.4</td>\n",
       "      <td>True</td>\n",
       "      <td>True</td>\n",
       "      <td>165</td>\n",
       "    </tr>\n",
       "    <tr>\n",
       "      <th>264835</th>\n",
       "      <td>2373711</td>\n",
       "      <td>YOUNG SINGLES/COUPLES</td>\n",
       "      <td>Mainstream</td>\n",
       "      <td>2018-12-14</td>\n",
       "      <td>88</td>\n",
       "      <td>241815</td>\n",
       "      <td>16</td>\n",
       "      <td>Smiths Crinkle Chips Salt &amp; Vinegar 330g</td>\n",
       "      <td>2</td>\n",
       "      <td>11.4</td>\n",
       "      <td>True</td>\n",
       "      <td>True</td>\n",
       "      <td>330</td>\n",
       "    </tr>\n",
       "  </tbody>\n",
       "</table>\n",
       "<p>246740 rows × 13 columns</p>\n",
       "</div>"
      ],
      "text/plain": [
       "        LYLTY_CARD_NBR               LIFESTAGE PREMIUM_CUSTOMER       DATE  \\\n",
       "0                 1000   YOUNG SINGLES/COUPLES          Premium 2018-10-17   \n",
       "1                 1002   YOUNG SINGLES/COUPLES       Mainstream 2018-09-16   \n",
       "2                 1003          YOUNG FAMILIES           Budget 2019-03-07   \n",
       "3                 1003          YOUNG FAMILIES           Budget 2019-03-08   \n",
       "4                 1004   OLDER SINGLES/COUPLES       Mainstream 2018-11-02   \n",
       "...                ...                     ...              ...        ...   \n",
       "264830         2370651  MIDAGE SINGLES/COUPLES       Mainstream 2018-08-03   \n",
       "264831         2370701          YOUNG FAMILIES       Mainstream 2018-12-08   \n",
       "264832         2370751          YOUNG FAMILIES          Premium 2018-10-01   \n",
       "264833         2370961          OLDER FAMILIES           Budget 2018-10-24   \n",
       "264835         2373711   YOUNG SINGLES/COUPLES       Mainstream 2018-12-14   \n",
       "\n",
       "        STORE_NBR  TXN_ID  PROD_NBR                                 PROD_NAME  \\\n",
       "0               1       1         5    Natural Chip        Compny SeaSalt175g   \n",
       "1               1       2        58     Red Rock Deli Chikn&Garlic Aioli 150g   \n",
       "2               1       3        52     Grain Waves Sour    Cream&Chives 210G   \n",
       "3               1       4       106    Natural ChipCo      Hony Soy Chckn175g   \n",
       "4               1       5        96            WW Original Stacked Chips 160g   \n",
       "...           ...     ...       ...                                       ...   \n",
       "264830         88  240350         4          Dorito Corn Chp     Supreme 380g   \n",
       "264831         88  240378        24     Grain Waves         Sweet Chilli 210g   \n",
       "264832         88  240394        60      Kettle Tortilla ChpsFeta&Garlic 150g   \n",
       "264833         88  240480        70   Tyrrells Crisps     Lightly Salted 165g   \n",
       "264835         88  241815        16  Smiths Crinkle Chips Salt & Vinegar 330g   \n",
       "\n",
       "        PROD_QTY  TOT_SALES  Large Sales  Large Quantity  PACK_SIZE  \n",
       "0              2        6.0        False            True        175  \n",
       "1              1        2.7        False           False        150  \n",
       "2              1        3.6        False           False        210  \n",
       "3              1        3.0        False           False        175  \n",
       "4              1        1.9        False           False        160  \n",
       "...          ...        ...          ...             ...        ...  \n",
       "264830         2       13.0         True            True        380  \n",
       "264831         2        7.2        False            True        210  \n",
       "264832         2        9.2         True            True        150  \n",
       "264833         2        8.4         True            True        165  \n",
       "264835         2       11.4         True            True        330  \n",
       "\n",
       "[246740 rows x 13 columns]"
      ]
     },
     "execution_count": 46,
     "metadata": {},
     "output_type": "execute_result"
    }
   ],
   "source": [
    "df_clean"
   ]
  },
  {
   "cell_type": "code",
   "execution_count": 47,
   "id": "d966e193",
   "metadata": {},
   "outputs": [
    {
     "data": {
      "text/plain": [
       "<Axes: >"
      ]
     },
     "execution_count": 47,
     "metadata": {},
     "output_type": "execute_result"
    },
    {
     "data": {
      "image/png": "[encoded data removed]",
      "text/plain": [
       "<Figure size 640x480 with 1 Axes>"
      ]
     },
     "metadata": {},
     "output_type": "display_data"
    }
   ],
   "source": [
    "df_clean['PACK_SIZE'].hist()"
   ]
  },
  {
   "cell_type": "markdown",
   "id": "1da601d7",
   "metadata": {},
   "source": [
    "Pack sizes created look reasonable and now to create brands, I can use the first word in PROD_NAME to\n",
    "work out the brand name"
   ]
  },
  {
   "cell_type": "code",
   "execution_count": 48,
   "id": "1e918c3f",
   "metadata": {},
   "outputs": [
    {
     "name": "stdout",
     "output_type": "stream",
     "text": [
      "Counts of each brand:\n",
      "BRAND\n",
      "KETTLE        41288\n",
      "SMITHS        27390\n",
      "PRINGLES      25102\n",
      "DORITOS       22041\n",
      "THINS         14075\n",
      "RRD           11894\n",
      "INFUZIONS     11057\n",
      "WW            10320\n",
      "COBS           9693\n",
      "TOSTITOS       9471\n",
      "TWISTIES       9454\n",
      "TYRRELLS       6442\n",
      "GRAIN          6272\n",
      "NATURAL        6050\n",
      "CHEEZELS       4603\n",
      "CCS            4551\n",
      "RED            4427\n",
      "DORITO         3183\n",
      "INFZNS         3144\n",
      "SMITH          2963\n",
      "CHEETOS        2927\n",
      "SNBTS          1576\n",
      "BURGER         1564\n",
      "WOOLWORTHS     1516\n",
      "GRNWVES        1468\n",
      "SUNBITES       1432\n",
      "NCC            1419\n",
      "FRENCH         1418\n",
      "Name: count, dtype: int64\n"
     ]
    }
   ],
   "source": [
    "\n",
    "# Extract brand names from the 'PROD_NAME' column\n",
    "df_clean['BRAND'] = df_clean['PROD_NAME'].str.split().str[0].str.upper()\n",
    "\n",
    "# Check the counts of each brand\n",
    "brand_counts = df_clean['BRAND'].value_counts().sort_values(ascending=False)\n",
    "print(\"Counts of each brand:\")\n",
    "print(brand_counts)\n"
   ]
  },
  {
   "cell_type": "markdown",
   "id": "04e68b00",
   "metadata": {},
   "source": [
    "Some of the brand names look like they are of the same brands - such as RED and RRD, which are both Red\n",
    "Rock Deli chips. Let’s combine these together."
   ]
  },
  {
   "cell_type": "code",
   "execution_count": 49,
   "id": "64065b9e",
   "metadata": {},
   "outputs": [],
   "source": [
    "df_clean['BRAND'] = df_clean['BRAND'].str.replace('RRD','RED')\n",
    "df_clean['BRAND'] = df_clean['BRAND'].str.replace(\"SNBTS\",\"SUNBITES\")\n",
    "df_clean['BRAND'] = df_clean['BRAND'].str.replace(\"INFZNS\",\"INFUZIONS\")\n",
    "df_clean['BRAND'] = df_clean['BRAND'].str.replace(\"WW\",\"WOOLWORTHS\")\n",
    "df_clean['BRAND'] = df_clean['BRAND'].str.replace(\"SMITH\", \"SMITHS\")\n",
    "df_clean['BRAND'] = df_clean['BRAND'].str.replace(\"NCC\", \"NATURAL\")\n",
    "df_clean['BRAND'] = df_clean['BRAND'].str.replace(\"DORITO\",\"DORITOS\")\n",
    "df_clean['BRAND'] = df_clean['BRAND'].str.replace(\"GRAIN\",\"GRNWVES\")\n"
   ]
  },
  {
   "cell_type": "code",
   "execution_count": 50,
   "id": "5504919d",
   "metadata": {},
   "outputs": [
    {
     "name": "stdout",
     "output_type": "stream",
     "text": [
      "Unique values in 'BRAND' column after replacements:\n",
      "['NATURAL' 'RED' 'GRNWVES' 'WOOLWORTHS' 'CHEETOS' 'INFUZIONS' 'DORITOSS'\n",
      " 'SMITHSS' 'KETTLE' 'CCS' 'TOSTITOS' 'COBS' 'BURGER' 'THINS' 'TYRRELLS'\n",
      " 'SMITHS' 'CHEEZELS' 'TWISTIES' 'SUNBITES' 'PRINGLES' 'FRENCH' 'DORITOS']\n"
     ]
    }
   ],
   "source": [
    "print(\"Unique values in 'BRAND' column after replacements:\")\n",
    "print(df_clean['BRAND'].unique())"
   ]
  },
  {
   "cell_type": "code",
   "execution_count": 51,
   "id": "b6695a44",
   "metadata": {},
   "outputs": [],
   "source": [
    "# Perform replacements\n",
    "df_clean['BRAND'] = df_clean['BRAND'].str.replace('RRD','RED')\n",
    "df_clean['BRAND'] = df_clean['BRAND'].str.replace(\"SNBTS\",\"SUNBITES\")\n",
    "df_clean['BRAND'] = df_clean['BRAND'].str.replace(\"INFZNS\",\"INFUZIONS\")\n",
    "df_clean['BRAND'] = df_clean['BRAND'].str.replace(\"WW\",\"WOOLWORTHS\")\n",
    "df_clean['BRAND'] = df_clean['BRAND'].str.replace(\"SMITHS\", \"SMITH\")\n",
    "df_clean['BRAND'] = df_clean['BRAND'].str.replace(\"NCC\", \"NATURAL\")\n",
    "df_clean['BRAND'] = df_clean['BRAND'].str.replace(\"DORITOSS\",\"DORITOS\")\n",
    "df_clean['BRAND'] = df_clean['BRAND'].str.replace(\"GRAIN\",\"GRNWVES\")\n"
   ]
  },
  {
   "cell_type": "code",
   "execution_count": 52,
   "id": "9578281d",
   "metadata": {},
   "outputs": [
    {
     "name": "stdout",
     "output_type": "stream",
     "text": [
      "Unique values in 'BRAND' column after replacements:\n",
      "['NATURAL' 'RED' 'GRNWVES' 'WOOLWORTHS' 'CHEETOS' 'INFUZIONS' 'DORITOS'\n",
      " 'SMITHS' 'KETTLE' 'CCS' 'TOSTITOS' 'COBS' 'BURGER' 'THINS' 'TYRRELLS'\n",
      " 'SMITH' 'CHEEZELS' 'TWISTIES' 'SUNBITES' 'PRINGLES' 'FRENCH']\n"
     ]
    }
   ],
   "source": [
    "print(\"Unique values in 'BRAND' column after replacements:\")\n",
    "print(df_clean['BRAND'].unique())"
   ]
  },
  {
   "cell_type": "markdown",
   "id": "d1127bf9",
   "metadata": {},
   "source": [
    "Who spends the most on chips (total sales), describing customers by lifestage and how premium their\n",
    "general purchasing behaviour is?\n"
   ]
  },
  {
   "cell_type": "code",
   "execution_count": 56,
   "id": "39ea3056",
   "metadata": {},
   "outputs": [
    {
     "data": {
      "text/html": [
       "<div>\n",
       "<style scoped>\n",
       "    .dataframe tbody tr th:only-of-type {\n",
       "        vertical-align: middle;\n",
       "    }\n",
       "\n",
       "    .dataframe tbody tr th {\n",
       "        vertical-align: top;\n",
       "    }\n",
       "\n",
       "    .dataframe thead th {\n",
       "        text-align: right;\n",
       "    }\n",
       "</style>\n",
       "<table border=\"1\" class=\"dataframe\">\n",
       "  <thead>\n",
       "    <tr style=\"text-align: right;\">\n",
       "      <th></th>\n",
       "      <th></th>\n",
       "      <th>TOT_SALES</th>\n",
       "    </tr>\n",
       "    <tr>\n",
       "      <th>LIFESTAGE</th>\n",
       "      <th>PREMIUM_CUSTOMER</th>\n",
       "      <th></th>\n",
       "    </tr>\n",
       "  </thead>\n",
       "  <tbody>\n",
       "    <tr>\n",
       "      <th rowspan=\"3\" valign=\"top\">NEW FAMILIES</th>\n",
       "      <th>Premium</th>\n",
       "      <td>10760.80</td>\n",
       "    </tr>\n",
       "    <tr>\n",
       "      <th>Mainstream</th>\n",
       "      <td>15979.70</td>\n",
       "    </tr>\n",
       "    <tr>\n",
       "      <th>Budget</th>\n",
       "      <td>20607.45</td>\n",
       "    </tr>\n",
       "    <tr>\n",
       "      <th>MIDAGE SINGLES/COUPLES</th>\n",
       "      <th>Budget</th>\n",
       "      <td>33345.70</td>\n",
       "    </tr>\n",
       "    <tr>\n",
       "      <th>YOUNG SINGLES/COUPLES</th>\n",
       "      <th>Premium</th>\n",
       "      <td>39052.30</td>\n",
       "    </tr>\n",
       "    <tr>\n",
       "      <th>MIDAGE SINGLES/COUPLES</th>\n",
       "      <th>Premium</th>\n",
       "      <td>54443.85</td>\n",
       "    </tr>\n",
       "    <tr>\n",
       "      <th>YOUNG SINGLES/COUPLES</th>\n",
       "      <th>Budget</th>\n",
       "      <td>57122.10</td>\n",
       "    </tr>\n",
       "    <tr>\n",
       "      <th>OLDER FAMILIES</th>\n",
       "      <th>Premium</th>\n",
       "      <td>75242.60</td>\n",
       "    </tr>\n",
       "    <tr>\n",
       "      <th>YOUNG FAMILIES</th>\n",
       "      <th>Premium</th>\n",
       "      <td>78571.70</td>\n",
       "    </tr>\n",
       "    <tr>\n",
       "      <th>MIDAGE SINGLES/COUPLES</th>\n",
       "      <th>Mainstream</th>\n",
       "      <td>84734.25</td>\n",
       "    </tr>\n",
       "    <tr>\n",
       "      <th>YOUNG FAMILIES</th>\n",
       "      <th>Mainstream</th>\n",
       "      <td>86338.25</td>\n",
       "    </tr>\n",
       "    <tr>\n",
       "      <th>RETIREES</th>\n",
       "      <th>Premium</th>\n",
       "      <td>91296.65</td>\n",
       "    </tr>\n",
       "    <tr>\n",
       "      <th>OLDER FAMILIES</th>\n",
       "      <th>Mainstream</th>\n",
       "      <td>96413.55</td>\n",
       "    </tr>\n",
       "    <tr>\n",
       "      <th>RETIREES</th>\n",
       "      <th>Budget</th>\n",
       "      <td>105916.30</td>\n",
       "    </tr>\n",
       "    <tr>\n",
       "      <th rowspan=\"3\" valign=\"top\">OLDER SINGLES/COUPLES</th>\n",
       "      <th>Premium</th>\n",
       "      <td>123537.55</td>\n",
       "    </tr>\n",
       "    <tr>\n",
       "      <th>Mainstream</th>\n",
       "      <td>124648.50</td>\n",
       "    </tr>\n",
       "    <tr>\n",
       "      <th>Budget</th>\n",
       "      <td>127833.60</td>\n",
       "    </tr>\n",
       "    <tr>\n",
       "      <th>YOUNG FAMILIES</th>\n",
       "      <th>Budget</th>\n",
       "      <td>129717.95</td>\n",
       "    </tr>\n",
       "    <tr>\n",
       "      <th>RETIREES</th>\n",
       "      <th>Mainstream</th>\n",
       "      <td>145168.95</td>\n",
       "    </tr>\n",
       "    <tr>\n",
       "      <th>YOUNG SINGLES/COUPLES</th>\n",
       "      <th>Mainstream</th>\n",
       "      <td>147582.20</td>\n",
       "    </tr>\n",
       "    <tr>\n",
       "      <th>OLDER FAMILIES</th>\n",
       "      <th>Budget</th>\n",
       "      <td>156863.75</td>\n",
       "    </tr>\n",
       "  </tbody>\n",
       "</table>\n",
       "</div>"
      ],
      "text/plain": [
       "                                         TOT_SALES\n",
       "LIFESTAGE              PREMIUM_CUSTOMER           \n",
       "NEW FAMILIES           Premium            10760.80\n",
       "                       Mainstream         15979.70\n",
       "                       Budget             20607.45\n",
       "MIDAGE SINGLES/COUPLES Budget             33345.70\n",
       "YOUNG SINGLES/COUPLES  Premium            39052.30\n",
       "MIDAGE SINGLES/COUPLES Premium            54443.85\n",
       "YOUNG SINGLES/COUPLES  Budget             57122.10\n",
       "OLDER FAMILIES         Premium            75242.60\n",
       "YOUNG FAMILIES         Premium            78571.70\n",
       "MIDAGE SINGLES/COUPLES Mainstream         84734.25\n",
       "YOUNG FAMILIES         Mainstream         86338.25\n",
       "RETIREES               Premium            91296.65\n",
       "OLDER FAMILIES         Mainstream         96413.55\n",
       "RETIREES               Budget            105916.30\n",
       "OLDER SINGLES/COUPLES  Premium           123537.55\n",
       "                       Mainstream        124648.50\n",
       "                       Budget            127833.60\n",
       "YOUNG FAMILIES         Budget            129717.95\n",
       "RETIREES               Mainstream        145168.95\n",
       "YOUNG SINGLES/COUPLES  Mainstream        147582.20\n",
       "OLDER FAMILIES         Budget            156863.75"
      ]
     },
     "execution_count": 56,
     "metadata": {},
     "output_type": "execute_result"
    }
   ],
   "source": [
    "#This is to find total amount spent by a customer in every segent\n",
    "Customers = df_clean.groupby(['LIFESTAGE', 'PREMIUM_CUSTOMER']).agg({'TOT_SALES': \"sum\"}).sort_values(by='TOT_SALES', ascending=True)\n",
    "Customers"
   ]
  },
  {
   "cell_type": "raw",
   "id": "0fe23bb3",
   "metadata": {},
   "source": [
    "The lowest total sales value is associated with the \"NEW FAMILIES\" life stage and \"Premium\"  customer segment, with a total sales amount of $10,760.80.\n",
    "The highest total sales value is associated with the \"OLDER FAMILIES\" life stage and \"Budget\" customer segment, with a total sales amount of $156,863,725."
   ]
  },
  {
   "cell_type": "raw",
   "id": "c4320b60",
   "metadata": {},
   "source": [
    "How many customers are in each segment\n"
   ]
  },
  {
   "cell_type": "code",
   "execution_count": 57,
   "id": "1d395fc0",
   "metadata": {},
   "outputs": [
    {
     "data": {
      "text/plain": [
       "PREMIUM_CUSTOMER\n",
       "Mainstream    95043\n",
       "Budget        86762\n",
       "Premium       64935\n",
       "Name: count, dtype: int64"
      ]
     },
     "execution_count": 57,
     "metadata": {},
     "output_type": "execute_result"
    }
   ],
   "source": [
    "df_clean[\"PREMIUM_CUSTOMER\"].value_counts()"
   ]
  },
  {
   "cell_type": "code",
   "execution_count": 58,
   "id": "143f0891",
   "metadata": {},
   "outputs": [
    {
     "data": {
      "image/png": "[encoded data removed]",
      "text/plain": [
       "<Figure size 640x480 with 1 Axes>"
      ]
     },
     "metadata": {},
     "output_type": "display_data"
    }
   ],
   "source": [
    "sns.countplot(data=df_clean, x='PREMIUM_CUSTOMER')\n",
    "plt.xticks(rotation=45)\n",
    "plt.show()"
   ]
  },
  {
   "cell_type": "code",
   "execution_count": 59,
   "id": "2436fe6e",
   "metadata": {},
   "outputs": [
    {
     "data": {
      "text/plain": [
       "LIFESTAGE\n",
       "OLDER SINGLES/COUPLES     50793\n",
       "RETIREES                  46431\n",
       "OLDER FAMILIES            45158\n",
       "YOUNG FAMILIES            40494\n",
       "YOUNG SINGLES/COUPLES     33969\n",
       "MIDAGE SINGLES/COUPLES    23398\n",
       "NEW FAMILIES               6497\n",
       "Name: count, dtype: int64"
      ]
     },
     "execution_count": 59,
     "metadata": {},
     "output_type": "execute_result"
    }
   ],
   "source": [
    "df_clean[\"LIFESTAGE\"].value_counts()"
   ]
  },
  {
   "cell_type": "code",
   "execution_count": 62,
   "id": "7169d6f0",
   "metadata": {},
   "outputs": [
    {
     "data": {
      "image/png": "[encoded data removed]",
      "text/plain": [
       "<Figure size 640x480 with 1 Axes>"
      ]
     },
     "metadata": {},
     "output_type": "display_data"
    }
   ],
   "source": [
    "sns.countplot(data=df_clean, x='LIFESTAGE')\n",
    "plt.xticks(rotation=45)\n",
    "plt.title('Total Count of Customer per LIFESTAGE')\n",
    "plt.show()"
   ]
  },
  {
   "cell_type": "raw",
   "id": "12a10cc7",
   "metadata": {},
   "source": [
    "How many chips are bought per customer by segment"
   ]
  },
  {
   "cell_type": "code",
   "execution_count": 80,
   "id": "7380f8ec",
   "metadata": {},
   "outputs": [
    {
     "data": {
      "text/html": [
       "<div>\n",
       "<style scoped>\n",
       "    .dataframe tbody tr th:only-of-type {\n",
       "        vertical-align: middle;\n",
       "    }\n",
       "\n",
       "    .dataframe tbody tr th {\n",
       "        vertical-align: top;\n",
       "    }\n",
       "\n",
       "    .dataframe thead th {\n",
       "        text-align: right;\n",
       "    }\n",
       "</style>\n",
       "<table border=\"1\" class=\"dataframe\">\n",
       "  <thead>\n",
       "    <tr style=\"text-align: right;\">\n",
       "      <th></th>\n",
       "      <th>PREMIUM_CUSTOMER</th>\n",
       "      <th>LIFESTAGE</th>\n",
       "      <th>PROD_QTY</th>\n",
       "    </tr>\n",
       "  </thead>\n",
       "  <tbody>\n",
       "    <tr>\n",
       "      <th>0</th>\n",
       "      <td>Budget</td>\n",
       "      <td>MIDAGE SINGLES/COUPLES</td>\n",
       "      <td>8883</td>\n",
       "    </tr>\n",
       "    <tr>\n",
       "      <th>1</th>\n",
       "      <td>Budget</td>\n",
       "      <td>NEW FAMILIES</td>\n",
       "      <td>5241</td>\n",
       "    </tr>\n",
       "    <tr>\n",
       "      <th>2</th>\n",
       "      <td>Budget</td>\n",
       "      <td>OLDER FAMILIES</td>\n",
       "      <td>41853</td>\n",
       "    </tr>\n",
       "    <tr>\n",
       "      <th>3</th>\n",
       "      <td>Budget</td>\n",
       "      <td>OLDER SINGLES/COUPLES</td>\n",
       "      <td>32883</td>\n",
       "    </tr>\n",
       "    <tr>\n",
       "      <th>4</th>\n",
       "      <td>Budget</td>\n",
       "      <td>RETIREES</td>\n",
       "      <td>26932</td>\n",
       "    </tr>\n",
       "    <tr>\n",
       "      <th>5</th>\n",
       "      <td>Budget</td>\n",
       "      <td>YOUNG FAMILIES</td>\n",
       "      <td>34482</td>\n",
       "    </tr>\n",
       "    <tr>\n",
       "      <th>6</th>\n",
       "      <td>Budget</td>\n",
       "      <td>YOUNG SINGLES/COUPLES</td>\n",
       "      <td>15500</td>\n",
       "    </tr>\n",
       "    <tr>\n",
       "      <th>7</th>\n",
       "      <td>Mainstream</td>\n",
       "      <td>MIDAGE SINGLES/COUPLES</td>\n",
       "      <td>21213</td>\n",
       "    </tr>\n",
       "    <tr>\n",
       "      <th>8</th>\n",
       "      <td>Mainstream</td>\n",
       "      <td>NEW FAMILIES</td>\n",
       "      <td>4060</td>\n",
       "    </tr>\n",
       "    <tr>\n",
       "      <th>9</th>\n",
       "      <td>Mainstream</td>\n",
       "      <td>OLDER FAMILIES</td>\n",
       "      <td>25804</td>\n",
       "    </tr>\n",
       "    <tr>\n",
       "      <th>10</th>\n",
       "      <td>Mainstream</td>\n",
       "      <td>OLDER SINGLES/COUPLES</td>\n",
       "      <td>32607</td>\n",
       "    </tr>\n",
       "    <tr>\n",
       "      <th>11</th>\n",
       "      <td>Mainstream</td>\n",
       "      <td>RETIREES</td>\n",
       "      <td>37677</td>\n",
       "    </tr>\n",
       "    <tr>\n",
       "      <th>12</th>\n",
       "      <td>Mainstream</td>\n",
       "      <td>YOUNG FAMILIES</td>\n",
       "      <td>23194</td>\n",
       "    </tr>\n",
       "    <tr>\n",
       "      <th>13</th>\n",
       "      <td>Mainstream</td>\n",
       "      <td>YOUNG SINGLES/COUPLES</td>\n",
       "      <td>36225</td>\n",
       "    </tr>\n",
       "    <tr>\n",
       "      <th>14</th>\n",
       "      <td>Premium</td>\n",
       "      <td>MIDAGE SINGLES/COUPLES</td>\n",
       "      <td>14400</td>\n",
       "    </tr>\n",
       "    <tr>\n",
       "      <th>15</th>\n",
       "      <td>Premium</td>\n",
       "      <td>NEW FAMILIES</td>\n",
       "      <td>2769</td>\n",
       "    </tr>\n",
       "    <tr>\n",
       "      <th>16</th>\n",
       "      <td>Premium</td>\n",
       "      <td>OLDER FAMILIES</td>\n",
       "      <td>20239</td>\n",
       "    </tr>\n",
       "    <tr>\n",
       "      <th>17</th>\n",
       "      <td>Premium</td>\n",
       "      <td>OLDER SINGLES/COUPLES</td>\n",
       "      <td>31695</td>\n",
       "    </tr>\n",
       "    <tr>\n",
       "      <th>18</th>\n",
       "      <td>Premium</td>\n",
       "      <td>RETIREES</td>\n",
       "      <td>23266</td>\n",
       "    </tr>\n",
       "    <tr>\n",
       "      <th>19</th>\n",
       "      <td>Premium</td>\n",
       "      <td>YOUNG FAMILIES</td>\n",
       "      <td>20901</td>\n",
       "    </tr>\n",
       "    <tr>\n",
       "      <th>20</th>\n",
       "      <td>Premium</td>\n",
       "      <td>YOUNG SINGLES/COUPLES</td>\n",
       "      <td>10575</td>\n",
       "    </tr>\n",
       "  </tbody>\n",
       "</table>\n",
       "</div>"
      ],
      "text/plain": [
       "   PREMIUM_CUSTOMER               LIFESTAGE  PROD_QTY\n",
       "0            Budget  MIDAGE SINGLES/COUPLES      8883\n",
       "1            Budget            NEW FAMILIES      5241\n",
       "2            Budget          OLDER FAMILIES     41853\n",
       "3            Budget   OLDER SINGLES/COUPLES     32883\n",
       "4            Budget                RETIREES     26932\n",
       "5            Budget          YOUNG FAMILIES     34482\n",
       "6            Budget   YOUNG SINGLES/COUPLES     15500\n",
       "7        Mainstream  MIDAGE SINGLES/COUPLES     21213\n",
       "8        Mainstream            NEW FAMILIES      4060\n",
       "9        Mainstream          OLDER FAMILIES     25804\n",
       "10       Mainstream   OLDER SINGLES/COUPLES     32607\n",
       "11       Mainstream                RETIREES     37677\n",
       "12       Mainstream          YOUNG FAMILIES     23194\n",
       "13       Mainstream   YOUNG SINGLES/COUPLES     36225\n",
       "14          Premium  MIDAGE SINGLES/COUPLES     14400\n",
       "15          Premium            NEW FAMILIES      2769\n",
       "16          Premium          OLDER FAMILIES     20239\n",
       "17          Premium   OLDER SINGLES/COUPLES     31695\n",
       "18          Premium                RETIREES     23266\n",
       "19          Premium          YOUNG FAMILIES     20901\n",
       "20          Premium   YOUNG SINGLES/COUPLES     10575"
      ]
     },
     "execution_count": 80,
     "metadata": {},
     "output_type": "execute_result"
    }
   ],
   "source": [
    "chips_bought_per_customer=df_clean.groupby(['PREMIUM_CUSTOMER','LIFESTAGE']).agg({'PROD_QTY':'sum'}).reset_index()\n",
    "chips_bought_per_customer"
   ]
  },
  {
   "cell_type": "raw",
   "id": "8c9c5e40",
   "metadata": {},
   "source": [
    "There are more Mainstream - young singles/couples and Mainstream - retirees who buy chips. This con￾tributes to there being more sales to these customer segments but this is not a major driver for the Budget\n",
    "- Older families segment.\n"
   ]
  },
  {
   "cell_type": "code",
   "execution_count": 76,
   "id": "1622fb30",
   "metadata": {},
   "outputs": [
    {
     "data": {
      "text/html": [
       "<div>\n",
       "<style scoped>\n",
       "    .dataframe tbody tr th:only-of-type {\n",
       "        vertical-align: middle;\n",
       "    }\n",
       "\n",
       "    .dataframe tbody tr th {\n",
       "        vertical-align: top;\n",
       "    }\n",
       "\n",
       "    .dataframe thead th {\n",
       "        text-align: right;\n",
       "    }\n",
       "</style>\n",
       "<table border=\"1\" class=\"dataframe\">\n",
       "  <thead>\n",
       "    <tr style=\"text-align: right;\">\n",
       "      <th></th>\n",
       "      <th>LIFESTAGE</th>\n",
       "      <th>TOT_SALES</th>\n",
       "    </tr>\n",
       "  </thead>\n",
       "  <tbody>\n",
       "    <tr>\n",
       "      <th>0</th>\n",
       "      <td>MIDAGE SINGLES/COUPLES</td>\n",
       "      <td>172523.80</td>\n",
       "    </tr>\n",
       "    <tr>\n",
       "      <th>1</th>\n",
       "      <td>NEW FAMILIES</td>\n",
       "      <td>47347.95</td>\n",
       "    </tr>\n",
       "    <tr>\n",
       "      <th>2</th>\n",
       "      <td>OLDER FAMILIES</td>\n",
       "      <td>328519.90</td>\n",
       "    </tr>\n",
       "    <tr>\n",
       "      <th>3</th>\n",
       "      <td>OLDER SINGLES/COUPLES</td>\n",
       "      <td>376019.65</td>\n",
       "    </tr>\n",
       "    <tr>\n",
       "      <th>4</th>\n",
       "      <td>RETIREES</td>\n",
       "      <td>342381.90</td>\n",
       "    </tr>\n",
       "    <tr>\n",
       "      <th>5</th>\n",
       "      <td>YOUNG FAMILIES</td>\n",
       "      <td>294627.90</td>\n",
       "    </tr>\n",
       "    <tr>\n",
       "      <th>6</th>\n",
       "      <td>YOUNG SINGLES/COUPLES</td>\n",
       "      <td>243756.60</td>\n",
       "    </tr>\n",
       "  </tbody>\n",
       "</table>\n",
       "</div>"
      ],
      "text/plain": [
       "                LIFESTAGE  TOT_SALES\n",
       "0  MIDAGE SINGLES/COUPLES  172523.80\n",
       "1            NEW FAMILIES   47347.95\n",
       "2          OLDER FAMILIES  328519.90\n",
       "3   OLDER SINGLES/COUPLES  376019.65\n",
       "4                RETIREES  342381.90\n",
       "5          YOUNG FAMILIES  294627.90\n",
       "6   YOUNG SINGLES/COUPLES  243756.60"
      ]
     },
     "execution_count": 76,
     "metadata": {},
     "output_type": "execute_result"
    }
   ],
   "source": [
    "#This is to find total amount spent by different family stages\n",
    "Customers_df=df_clean.groupby(['LIFESTAGE']).agg({'TOT_SALES':\"sum\"}).reset_index()\n",
    "Customers_df"
   ]
  },
  {
   "cell_type": "raw",
   "id": "9b73911f",
   "metadata": {},
   "source": [
    "From the data provided, the highest total sales value is associated with the \"OLDER SINGLES/COUPLES\" , with a total sales amount of $376,019.65 .\n",
    "The lowest total sales value is associated with the \"NEW FAMILIES\" with a total sales  of $47,347.95"
   ]
  },
  {
   "cell_type": "code",
   "execution_count": 69,
   "id": "64496b89",
   "metadata": {},
   "outputs": [
    {
     "name": "stdout",
     "output_type": "stream",
     "text": [
      "Top 10 Product Categories by Total Sales:\n",
      "PROD_NAME\n",
      "Dorito Corn Chp     Supreme 380g            39052.0\n",
      "Smiths Crnkle Chip  Orgnl Big Bag 380g      36367.6\n",
      "Smiths Crinkle Chips Salt & Vinegar 330g    34804.2\n",
      "Kettle Mozzarella   Basil & Pesto 175g      34457.4\n",
      "Smiths Crinkle      Original 330g           34302.6\n",
      "Cheezels Cheese 330g                        34296.9\n",
      "Doritos Cheese      Supreme 330g            33390.6\n",
      "Kettle Sweet Chilli And Sour Cream 175g     33031.8\n",
      "Kettle Original 175g                        32740.2\n",
      "Kettle Sea Salt     And Vinegar 175g        32589.0\n",
      "Name: TOT_SALES, dtype: float64\n"
     ]
    }
   ],
   "source": [
    "# Product Categories\n",
    "product_sales = df_clean.groupby('PROD_NAME')['TOT_SALES'].sum().sort_values(ascending=False)\n",
    "top_product_categories = product_sales.head(10)\n",
    "print(\"Top 10 Product Categories by Total Sales:\")\n",
    "print(top_product_categories)"
   ]
  },
  {
   "cell_type": "code",
   "execution_count": 70,
   "id": "7702f42c",
   "metadata": {},
   "outputs": [
    {
     "data": {
      "image/png": "[encoded data removed]",
      "text/plain": [
       "<Figure size 1000x600 with 1 Axes>"
      ]
     },
     "metadata": {},
     "output_type": "display_data"
    }
   ],
   "source": [
    "# Create a bar plot\n",
    "plt.figure(figsize=(10, 6))\n",
    "top_product_categories.plot(kind='bar', color='skyblue')\n",
    "plt.title('Top 10 Product Categories by Total Sales')\n",
    "plt.xlabel('Product Categories')\n",
    "plt.ylabel('Total Sales')\n",
    "plt.xticks(rotation=45, ha='right')\n",
    "plt.tight_layout()\n",
    "plt.show()"
   ]
  },
  {
   "cell_type": "code",
   "execution_count": 71,
   "id": "9c4593e9",
   "metadata": {},
   "outputs": [
    {
     "name": "stdout",
     "output_type": "stream",
     "text": [
      "Bottom 10 Product Categories by Total Sales:\n",
      "PROD_NAME\n",
      "WW Crinkle Cut      Original 175g           4532.2\n",
      "Sunbites Whlegrn    Crisps Frch/Onin 90g    4600.2\n",
      "WW Crinkle Cut      Chicken 175g            4702.2\n",
      "Snbts Whlgrn Crisps Cheddr&Mstrd 90g        5076.2\n",
      "Woolworths Cheese   Rings 190g              5169.6\n",
      "WW D/Style Chip     Sea Salt 200g           5249.7\n",
      "WW Sour Cream &OnionStacked Chips 160g      5323.8\n",
      "WW Original Stacked Chips 160g              5323.8\n",
      "WW Original Corn    Chips 200g              5367.5\n",
      "WW Supreme Cheese   Corn Chips 200g         5390.3\n",
      "Name: TOT_SALES, dtype: float64\n"
     ]
    }
   ],
   "source": [
    "# Product Categories\n",
    "product_sale = df_clean.groupby('PROD_NAME')['TOT_SALES'].sum().sort_values(ascending=True)\n",
    "bottom_product_categories = product_sale.head(10)\n",
    "print(\"Bottom 10 Product Categories by Total Sales:\")\n",
    "print(bottom_product_categories)"
   ]
  },
  {
   "cell_type": "code",
   "execution_count": 72,
   "id": "c9c9525d",
   "metadata": {},
   "outputs": [
    {
     "data": {
      "image/png": "[encoded data removed]",
      "text/plain": [
       "<Figure size 1000x600 with 1 Axes>"
      ]
     },
     "metadata": {},
     "output_type": "display_data"
    }
   ],
   "source": [
    "# Create a bar plot\n",
    "plt.figure(figsize=(10, 6))\n",
    "bottom_product_categories.plot(kind='bar', color='red')\n",
    "plt.title('Bottom 10 Product Categories by Total Sales')\n",
    "plt.xlabel('Product Categories')\n",
    "plt.ylabel('Total Sales')\n",
    "plt.xticks(rotation=45, ha='right')\n",
    "plt.tight_layout()\n",
    "plt.show()"
   ]
  },
  {
   "cell_type": "raw",
   "id": "0976d36f",
   "metadata": {},
   "source": [
    "What’s the average chip price by customer segment\n"
   ]
  },
  {
   "cell_type": "code",
   "execution_count": 78,
   "id": "fec2cdcc",
   "metadata": {},
   "outputs": [
    {
     "data": {
      "text/html": [
       "<div>\n",
       "<style scoped>\n",
       "    .dataframe tbody tr th:only-of-type {\n",
       "        vertical-align: middle;\n",
       "    }\n",
       "\n",
       "    .dataframe tbody tr th {\n",
       "        vertical-align: top;\n",
       "    }\n",
       "\n",
       "    .dataframe thead th {\n",
       "        text-align: right;\n",
       "    }\n",
       "</style>\n",
       "<table border=\"1\" class=\"dataframe\">\n",
       "  <thead>\n",
       "    <tr style=\"text-align: right;\">\n",
       "      <th></th>\n",
       "      <th></th>\n",
       "      <th>TOT_SALES</th>\n",
       "    </tr>\n",
       "    <tr>\n",
       "      <th>PREMIUM_CUSTOMER</th>\n",
       "      <th>LIFESTAGE</th>\n",
       "      <th></th>\n",
       "    </tr>\n",
       "  </thead>\n",
       "  <tbody>\n",
       "    <tr>\n",
       "      <th rowspan=\"7\" valign=\"top\">Budget</th>\n",
       "      <th>MIDAGE SINGLES/COUPLES</th>\n",
       "      <td>7.108442</td>\n",
       "    </tr>\n",
       "    <tr>\n",
       "      <th>NEW FAMILIES</th>\n",
       "      <td>7.297256</td>\n",
       "    </tr>\n",
       "    <tr>\n",
       "      <th>OLDER FAMILIES</th>\n",
       "      <td>7.291241</td>\n",
       "    </tr>\n",
       "    <tr>\n",
       "      <th>OLDER SINGLES/COUPLES</th>\n",
       "      <td>7.444305</td>\n",
       "    </tr>\n",
       "    <tr>\n",
       "      <th>RETIREES</th>\n",
       "      <td>7.445786</td>\n",
       "    </tr>\n",
       "    <tr>\n",
       "      <th>YOUNG FAMILIES</th>\n",
       "      <td>7.302705</td>\n",
       "    </tr>\n",
       "    <tr>\n",
       "      <th>YOUNG SINGLES/COUPLES</th>\n",
       "      <td>6.663023</td>\n",
       "    </tr>\n",
       "    <tr>\n",
       "      <th rowspan=\"7\" valign=\"top\">Mainstream</th>\n",
       "      <th>MIDAGE SINGLES/COUPLES</th>\n",
       "      <td>7.637156</td>\n",
       "    </tr>\n",
       "    <tr>\n",
       "      <th>NEW FAMILIES</th>\n",
       "      <td>7.313364</td>\n",
       "    </tr>\n",
       "    <tr>\n",
       "      <th>OLDER FAMILIES</th>\n",
       "      <td>7.281440</td>\n",
       "    </tr>\n",
       "    <tr>\n",
       "      <th>OLDER SINGLES/COUPLES</th>\n",
       "      <td>7.306049</td>\n",
       "    </tr>\n",
       "    <tr>\n",
       "      <th>RETIREES</th>\n",
       "      <td>7.269352</td>\n",
       "    </tr>\n",
       "    <tr>\n",
       "      <th>YOUNG FAMILIES</th>\n",
       "      <td>7.226772</td>\n",
       "    </tr>\n",
       "    <tr>\n",
       "      <th>YOUNG SINGLES/COUPLES</th>\n",
       "      <td>7.551279</td>\n",
       "    </tr>\n",
       "    <tr>\n",
       "      <th rowspan=\"7\" valign=\"top\">Premium</th>\n",
       "      <th>MIDAGE SINGLES/COUPLES</th>\n",
       "      <td>7.152371</td>\n",
       "    </tr>\n",
       "    <tr>\n",
       "      <th>NEW FAMILIES</th>\n",
       "      <td>7.231720</td>\n",
       "    </tr>\n",
       "    <tr>\n",
       "      <th>OLDER FAMILIES</th>\n",
       "      <td>7.232779</td>\n",
       "    </tr>\n",
       "    <tr>\n",
       "      <th>OLDER SINGLES/COUPLES</th>\n",
       "      <td>7.459997</td>\n",
       "    </tr>\n",
       "    <tr>\n",
       "      <th>RETIREES</th>\n",
       "      <td>7.461315</td>\n",
       "    </tr>\n",
       "    <tr>\n",
       "      <th>YOUNG FAMILIES</th>\n",
       "      <td>7.285951</td>\n",
       "    </tr>\n",
       "    <tr>\n",
       "      <th>YOUNG SINGLES/COUPLES</th>\n",
       "      <td>6.673325</td>\n",
       "    </tr>\n",
       "  </tbody>\n",
       "</table>\n",
       "</div>"
      ],
      "text/plain": [
       "                                         TOT_SALES\n",
       "PREMIUM_CUSTOMER LIFESTAGE                        \n",
       "Budget           MIDAGE SINGLES/COUPLES   7.108442\n",
       "                 NEW FAMILIES             7.297256\n",
       "                 OLDER FAMILIES           7.291241\n",
       "                 OLDER SINGLES/COUPLES    7.444305\n",
       "                 RETIREES                 7.445786\n",
       "                 YOUNG FAMILIES           7.302705\n",
       "                 YOUNG SINGLES/COUPLES    6.663023\n",
       "Mainstream       MIDAGE SINGLES/COUPLES   7.637156\n",
       "                 NEW FAMILIES             7.313364\n",
       "                 OLDER FAMILIES           7.281440\n",
       "                 OLDER SINGLES/COUPLES    7.306049\n",
       "                 RETIREES                 7.269352\n",
       "                 YOUNG FAMILIES           7.226772\n",
       "                 YOUNG SINGLES/COUPLES    7.551279\n",
       "Premium          MIDAGE SINGLES/COUPLES   7.152371\n",
       "                 NEW FAMILIES             7.231720\n",
       "                 OLDER FAMILIES           7.232779\n",
       "                 OLDER SINGLES/COUPLES    7.459997\n",
       "                 RETIREES                 7.461315\n",
       "                 YOUNG FAMILIES           7.285951\n",
       "                 YOUNG SINGLES/COUPLES    6.673325"
      ]
     },
     "execution_count": 78,
     "metadata": {},
     "output_type": "execute_result"
    }
   ],
   "source": [
    "df_clean.groupby(['PREMIUM_CUSTOMER','LIFESTAGE']).agg({'TOT_SALES':'mean'})"
   ]
  },
  {
   "cell_type": "raw",
   "id": "c106684c",
   "metadata": {},
   "source": [
    "Mainstream midage and young singles and couples are more willing to pay more per packet of chips com￾pared to their budget and premium counterparts. This may be due to premium shoppers being more likely to\n",
    "buy healthy snacks and when they buy chips, this is mainly for entertainment purposes rather than their own\n",
    "consumption. This is also supported by there being fewer premium midage and young singles and couples\n",
    "buying chips compared to their mainstream counterparts.\n"
   ]
  },
  {
   "cell_type": "raw",
   "id": "790866ab",
   "metadata": {},
   "source": [
    "check on hypothesis "
   ]
  },
  {
   "cell_type": "code",
   "execution_count": 81,
   "id": "8847ba71",
   "metadata": {},
   "outputs": [],
   "source": [
    "cleaned_data=df_clean.to_csv('df_clean.csv', index=False)"
   ]
  },
  {
   "cell_type": "code",
   "execution_count": null,
   "id": "051c4323",
   "metadata": {},
   "outputs": [],
   "source": []
  }
 ],
 "metadata": {
  "kernelspec": {
   "display_name": "Python 3 (ipykernel)",
   "language": "python",
   "name": "python3"
  },
  "language_info": {
   "codemirror_mode": {
    "name": "ipython",
    "version": 3
   },
   "file_extension": ".py",
   "mimetype": "text/x-python",
   "name": "python",
   "nbconvert_exporter": "python",
   "pygments_lexer": "ipython3",
   "version": "3.11.5"
  }
 },
 "nbformat": 4,
 "nbformat_minor": 5
}
